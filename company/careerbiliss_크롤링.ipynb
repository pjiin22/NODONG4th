{
  "nbformat": 4,
  "nbformat_minor": 0,
  "metadata": {
    "colab": {
      "provenance": []
    },
    "kernelspec": {
      "name": "python3",
      "display_name": "Python 3"
    },
    "language_info": {
      "name": "python"
    }
  },
  "cells": [
    {
      "cell_type": "markdown",
      "source": [
        "## 기본"
      ],
      "metadata": {
        "id": "JMmRqFoZ0gJ3"
      }
    },
    {
      "cell_type": "code",
      "source": [
        "import requests\n",
        "from bs4 import BeautifulSoup\n",
        "import pandas as pd\n",
        "import time\n",
        "import random\n",
        "from tqdm import tqdm  # 진행률 표시\n",
        "\n",
        "# 크롤링할 기업 리스트\n",
        "companies = [\n",
        "    \"Tesla\", \"Google\", \"Nvidia\", \"Apple\", \"Volkswagen\", \"Mercedes\",\n",
        "    \"Toyota\", \"Mastercard\", \"Costco\", \"Disney\", \"Netflix\", \"Walmart\"\n",
        "]\n",
        "\n",
        "# CareerBliss 리뷰 URL\n",
        "BASE_URL = \"https://www.careerbliss.com/{}/reviews/?page={}\"\n",
        "\n",
        "# User-Agent 설정 (차단 방지)\n",
        "HEADERS = {\n",
        "    \"User-Agent\": \"Mozilla/5.0 (Macintosh; Intel Mac OS X 10_15_7) AppleWebKit/537.36 (KHTML, like Gecko) Chrome/110.0.0.0 Safari/537.36\"\n",
        "}\n",
        "\n",
        "# 데이터 저장 리스트\n",
        "data = []\n",
        "\n",
        "# 총 작업량 설정 (기업 수 * 100개 리뷰 최대값)\n",
        "total_reviews = len(companies) * 100\n",
        "progress_bar = tqdm(total=total_reviews, desc=\"Scraping Progress\", unit=\"review\")\n",
        "\n",
        "# 각 기업별 크롤링\n",
        "for company in companies:\n",
        "    print(f\"\\n[+] Scraping reviews for {company}...\")\n",
        "\n",
        "    company_reviews = []\n",
        "    page = 1\n",
        "\n",
        "    while len(company_reviews) < 100:  # 최대 100개 리뷰 수집\n",
        "        url = BASE_URL.format(company.lower(), page)\n",
        "\n",
        "        try:\n",
        "            response = requests.get(url, headers=HEADERS, timeout=10)\n",
        "            response.raise_for_status()\n",
        "        except requests.exceptions.RequestException as e:\n",
        "            print(f\"[-] Request failed for {company} on page {page}: {e}\")\n",
        "            break\n",
        "\n",
        "        soup = BeautifulSoup(response.text, \"html.parser\")\n",
        "\n",
        "        # 리뷰 컨테이너 찾기\n",
        "        reviews = soup.find_all(\"div\", class_=\"company-reviews\")\n",
        "        if not reviews:\n",
        "            print(f\"[-] No more reviews found for {company} on page {page}\")\n",
        "            break\n",
        "\n",
        "        for review in reviews:\n",
        "            if len(company_reviews) >= 100:  # 100개 넘어가면 종료\n",
        "                break\n",
        "\n",
        "            # 직책 (Job Title)\n",
        "            job_title = review.find(\"a\", class_=\"header5\")\n",
        "            job_title = job_title.text.strip() if job_title else \"Unknown\"\n",
        "\n",
        "            # 전체 평점 (Overall Rating)\n",
        "            rating_stars = review.find(\"div\", class_=\"rating large-star\")\n",
        "            if rating_stars:\n",
        "                full_stars = len(rating_stars.find_all(\"span\", class_=\"full\"))\n",
        "                half_stars = len(rating_stars.find_all(\"span\", class_=\"half\"))\n",
        "                overall_rating = full_stars + (0.5 * half_stars)\n",
        "            else:\n",
        "                overall_rating = \"Unknown\"\n",
        "\n",
        "            # 세부 항목 점수\n",
        "            rating_details = {}\n",
        "            categories = review.find_all(\"span\", class_=\"span3 header9 text-right category\")\n",
        "            scores = review.find_all(\"span\", class_=\"span1 header8 value\")\n",
        "\n",
        "            for cat, score in zip(categories, scores):\n",
        "                category_name = cat.text.strip()\n",
        "                rating_score = score.text.strip()\n",
        "                rating_details[category_name] = rating_score\n",
        "\n",
        "            # 데이터 추가\n",
        "            company_reviews.append({\n",
        "                \"Company\": company,\n",
        "                \"Job Title\": job_title,\n",
        "                \"Overall Rating\": overall_rating,\n",
        "                **rating_details\n",
        "            })\n",
        "\n",
        "            # 진행률 바 업데이트\n",
        "            progress_bar.update(1)\n",
        "\n",
        "        page += 1\n",
        "        sleep_time = random.uniform(1, 3)  # 1~3초 랜덤 대기\n",
        "        print(f\"Sleeping for {sleep_time:.2f} seconds before next request...\")\n",
        "        time.sleep(sleep_time)\n",
        "\n",
        "    data.extend(company_reviews)\n",
        "\n",
        "# 진행률 바 종료\n",
        "progress_bar.close()\n",
        "\n",
        "# DataFrame 생성\n",
        "df = pd.DataFrame(data)\n",
        "\n",
        "# CSV 저장\n",
        "df.to_csv(\"careerbliss_reviews_fixed.csv\", index=False, encoding=\"utf-8-sig\")\n",
        "print(\"\\n✅ Scraping complete! Data saved to 'careerbliss_reviews_fixed.csv'\")\n"
      ],
      "metadata": {
        "colab": {
          "base_uri": "https://localhost:8080/"
        },
        "id": "Dcwsb8IBIGB4",
        "outputId": "753a91fe-f8de-4d09-da9a-f67c316f9bbf"
      },
      "execution_count": null,
      "outputs": [
        {
          "metadata": {
            "tags": null
          },
          "name": "stderr",
          "output_type": "stream",
          "text": [
            "\n",
            "Scraping Progress:   0%|          | 0/1200 [01:36<?, ?review/s]\n"
          ]
        },
        {
          "metadata": {
            "tags": null
          },
          "name": "stdout",
          "output_type": "stream",
          "text": [
            "\n",
            "[+] Scraping reviews for Tesla...\n"
          ]
        },
        {
          "metadata": {
            "tags": null
          },
          "name": "stderr",
          "output_type": "stream",
          "text": [
            "\n",
            "Scraping Progress:   0%|          | 1/1200 [00:01<27:18,  1.37s/review]\u001b[A"
          ]
        },
        {
          "metadata": {
            "tags": null
          },
          "name": "stdout",
          "output_type": "stream",
          "text": [
            "Sleeping for 1.15 seconds before next request...\n"
          ]
        },
        {
          "metadata": {
            "tags": null
          },
          "name": "stderr",
          "output_type": "stream",
          "text": [
            "\n",
            "Scraping Progress:   1%|▏         | 17/1200 [00:04<04:25,  4.46review/s]\u001b[A"
          ]
        },
        {
          "metadata": {
            "tags": null
          },
          "name": "stdout",
          "output_type": "stream",
          "text": [
            "Sleeping for 2.05 seconds before next request...\n"
          ]
        },
        {
          "metadata": {
            "tags": null
          },
          "name": "stderr",
          "output_type": "stream",
          "text": [
            "\n",
            "Scraping Progress:   3%|▎         | 33/1200 [00:07<04:08,  4.70review/s]\u001b[A"
          ]
        },
        {
          "metadata": {
            "tags": null
          },
          "name": "stdout",
          "output_type": "stream",
          "text": [
            "Sleeping for 2.60 seconds before next request...\n"
          ]
        },
        {
          "metadata": {
            "tags": null
          },
          "name": "stderr",
          "output_type": "stream",
          "text": [
            "\n",
            "Scraping Progress:   4%|▍         | 49/1200 [00:11<04:27,  4.30review/s]\u001b[A"
          ]
        },
        {
          "metadata": {
            "tags": null
          },
          "name": "stdout",
          "output_type": "stream",
          "text": [
            "Sleeping for 2.44 seconds before next request...\n"
          ]
        },
        {
          "metadata": {
            "tags": null
          },
          "name": "stderr",
          "output_type": "stream",
          "text": [
            "\n",
            "Scraping Progress:   5%|▌         | 65/1200 [00:15<04:31,  4.18review/s]\u001b[A"
          ]
        },
        {
          "metadata": {
            "tags": null
          },
          "name": "stdout",
          "output_type": "stream",
          "text": [
            "Sleeping for 2.24 seconds before next request...\n"
          ]
        },
        {
          "metadata": {
            "tags": null
          },
          "name": "stderr",
          "output_type": "stream",
          "text": [
            "\n",
            "Scraping Progress:   7%|▋         | 81/1200 [00:18<04:15,  4.39review/s]\u001b[A"
          ]
        },
        {
          "metadata": {
            "tags": null
          },
          "name": "stdout",
          "output_type": "stream",
          "text": [
            "Sleeping for 2.50 seconds before next request...\n"
          ]
        },
        {
          "metadata": {
            "tags": null
          },
          "name": "stderr",
          "output_type": "stream",
          "text": [
            "\n",
            "Scraping Progress:   8%|▊         | 97/1200 [00:22<04:12,  4.37review/s]\u001b[A"
          ]
        },
        {
          "metadata": {
            "tags": null
          },
          "name": "stdout",
          "output_type": "stream",
          "text": [
            "Sleeping for 2.85 seconds before next request...\n",
            "\n",
            "[+] Scraping reviews for Google...\n"
          ]
        },
        {
          "metadata": {
            "tags": null
          },
          "name": "stderr",
          "output_type": "stream",
          "text": [
            "\n",
            "Scraping Progress:   8%|▊         | 101/1200 [00:27<05:59,  3.06review/s]\u001b[A"
          ]
        },
        {
          "metadata": {
            "tags": null
          },
          "name": "stdout",
          "output_type": "stream",
          "text": [
            "Sleeping for 1.62 seconds before next request...\n"
          ]
        },
        {
          "metadata": {
            "tags": null
          },
          "name": "stderr",
          "output_type": "stream",
          "text": [
            "\n",
            "Scraping Progress:  10%|▉         | 117/1200 [00:30<05:12,  3.47review/s]\u001b[A"
          ]
        },
        {
          "metadata": {
            "tags": null
          },
          "name": "stdout",
          "output_type": "stream",
          "text": [
            "Sleeping for 1.63 seconds before next request...\n"
          ]
        },
        {
          "metadata": {
            "tags": null
          },
          "name": "stderr",
          "output_type": "stream",
          "text": [
            "\n",
            "Scraping Progress:  11%|█         | 133/1200 [00:33<04:23,  4.06review/s]\u001b[A"
          ]
        },
        {
          "metadata": {
            "tags": null
          },
          "name": "stdout",
          "output_type": "stream",
          "text": [
            "Sleeping for 2.27 seconds before next request...\n"
          ]
        },
        {
          "metadata": {
            "tags": null
          },
          "name": "stderr",
          "output_type": "stream",
          "text": [
            "\n",
            "Scraping Progress:  12%|█▏        | 149/1200 [00:37<04:15,  4.11review/s]\u001b[A"
          ]
        },
        {
          "metadata": {
            "tags": null
          },
          "name": "stdout",
          "output_type": "stream",
          "text": [
            "Sleeping for 1.70 seconds before next request...\n"
          ]
        },
        {
          "metadata": {
            "tags": null
          },
          "name": "stderr",
          "output_type": "stream",
          "text": [
            "\n",
            "Scraping Progress:  14%|█▍        | 165/1200 [00:40<03:57,  4.35review/s]\u001b[A"
          ]
        },
        {
          "metadata": {
            "tags": null
          },
          "name": "stdout",
          "output_type": "stream",
          "text": [
            "Sleeping for 2.67 seconds before next request...\n"
          ]
        },
        {
          "metadata": {
            "tags": null
          },
          "name": "stderr",
          "output_type": "stream",
          "text": [
            "\n",
            "Scraping Progress:  15%|█▌        | 181/1200 [00:44<04:04,  4.17review/s]\u001b[A"
          ]
        },
        {
          "metadata": {
            "tags": null
          },
          "name": "stdout",
          "output_type": "stream",
          "text": [
            "Sleeping for 2.77 seconds before next request...\n"
          ]
        },
        {
          "metadata": {
            "tags": null
          },
          "name": "stderr",
          "output_type": "stream",
          "text": [
            "\n",
            "Scraping Progress:  16%|█▋        | 197/1200 [00:48<04:10,  4.01review/s]\u001b[A"
          ]
        },
        {
          "metadata": {
            "tags": null
          },
          "name": "stdout",
          "output_type": "stream",
          "text": [
            "Sleeping for 1.12 seconds before next request...\n",
            "\n",
            "[+] Scraping reviews for Nvidia...\n"
          ]
        },
        {
          "metadata": {
            "tags": null
          },
          "name": "stderr",
          "output_type": "stream",
          "text": [
            "\n",
            "Scraping Progress:  17%|█▋        | 201/1200 [00:51<04:51,  3.43review/s]\u001b[A"
          ]
        },
        {
          "metadata": {
            "tags": null
          },
          "name": "stdout",
          "output_type": "stream",
          "text": [
            "Sleeping for 1.99 seconds before next request...\n"
          ]
        },
        {
          "metadata": {
            "tags": null
          },
          "name": "stderr",
          "output_type": "stream",
          "text": [
            "\n",
            "Scraping Progress:  18%|█▊        | 216/1200 [00:54<04:20,  3.78review/s]\u001b[A"
          ]
        },
        {
          "metadata": {
            "tags": null
          },
          "name": "stdout",
          "output_type": "stream",
          "text": [
            "Sleeping for 2.21 seconds before next request...\n"
          ]
        },
        {
          "metadata": {
            "tags": null
          },
          "name": "stderr",
          "output_type": "stream",
          "text": [
            "\n",
            "Scraping Progress:  19%|█▉        | 231/1200 [00:58<04:07,  3.91review/s]\u001b[A"
          ]
        },
        {
          "metadata": {
            "tags": null
          },
          "name": "stdout",
          "output_type": "stream",
          "text": [
            "Sleeping for 2.14 seconds before next request...\n"
          ]
        },
        {
          "metadata": {
            "tags": null
          },
          "name": "stderr",
          "output_type": "stream",
          "text": [
            "\n",
            "Scraping Progress:  20%|█▉        | 239/1200 [01:01<04:40,  3.43review/s]\u001b[A"
          ]
        },
        {
          "metadata": {
            "tags": null
          },
          "name": "stdout",
          "output_type": "stream",
          "text": [
            "Sleeping for 2.60 seconds before next request...\n"
          ]
        },
        {
          "metadata": {
            "tags": null
          },
          "name": "stderr",
          "output_type": "stream",
          "text": [
            "\n",
            "Scraping Progress:  21%|██        | 254/1200 [01:05<04:24,  3.58review/s]\u001b[A"
          ]
        },
        {
          "metadata": {
            "tags": null
          },
          "name": "stdout",
          "output_type": "stream",
          "text": [
            "Sleeping for 2.86 seconds before next request...\n"
          ]
        },
        {
          "metadata": {
            "tags": null
          },
          "name": "stderr",
          "output_type": "stream",
          "text": [
            "\n",
            "Scraping Progress:  22%|██▏       | 269/1200 [01:09<04:21,  3.56review/s]\u001b[A"
          ]
        },
        {
          "metadata": {
            "tags": null
          },
          "name": "stdout",
          "output_type": "stream",
          "text": [
            "Sleeping for 1.66 seconds before next request...\n"
          ]
        },
        {
          "metadata": {
            "tags": null
          },
          "name": "stderr",
          "output_type": "stream",
          "text": [
            "\n",
            "Scraping Progress:  24%|██▎       | 284/1200 [01:13<03:54,  3.90review/s]\u001b[A"
          ]
        },
        {
          "metadata": {
            "tags": null
          },
          "name": "stdout",
          "output_type": "stream",
          "text": [
            "Sleeping for 2.91 seconds before next request...\n"
          ]
        },
        {
          "metadata": {
            "tags": null
          },
          "name": "stderr",
          "output_type": "stream",
          "text": [
            "\n",
            "Scraping Progress:  25%|██▍       | 299/1200 [01:17<04:00,  3.75review/s]\u001b[A"
          ]
        },
        {
          "metadata": {
            "tags": null
          },
          "name": "stdout",
          "output_type": "stream",
          "text": [
            "Sleeping for 2.58 seconds before next request...\n",
            "\n",
            "[+] Scraping reviews for Apple...\n"
          ]
        },
        {
          "metadata": {
            "tags": null
          },
          "name": "stderr",
          "output_type": "stream",
          "text": [
            "\n",
            "Scraping Progress:  25%|██▌       | 301/1200 [01:22<05:46,  2.60review/s]\u001b[A"
          ]
        },
        {
          "metadata": {
            "tags": null
          },
          "name": "stdout",
          "output_type": "stream",
          "text": [
            "Sleeping for 2.25 seconds before next request...\n"
          ]
        },
        {
          "metadata": {
            "tags": null
          },
          "name": "stderr",
          "output_type": "stream",
          "text": [
            "\n",
            "Scraping Progress:  26%|██▋       | 317/1200 [01:25<04:42,  3.13review/s]\u001b[A"
          ]
        },
        {
          "metadata": {
            "tags": null
          },
          "name": "stdout",
          "output_type": "stream",
          "text": [
            "Sleeping for 1.86 seconds before next request...\n"
          ]
        },
        {
          "metadata": {
            "tags": null
          },
          "name": "stderr",
          "output_type": "stream",
          "text": [
            "\n",
            "Scraping Progress:  28%|██▊       | 333/1200 [01:29<04:08,  3.49review/s]\u001b[A"
          ]
        },
        {
          "metadata": {
            "tags": null
          },
          "name": "stdout",
          "output_type": "stream",
          "text": [
            "Sleeping for 1.01 seconds before next request...\n"
          ]
        },
        {
          "metadata": {
            "tags": null
          },
          "name": "stderr",
          "output_type": "stream",
          "text": [
            "\n",
            "Scraping Progress:  29%|██▉       | 349/1200 [01:31<03:21,  4.22review/s]\u001b[A"
          ]
        },
        {
          "metadata": {
            "tags": null
          },
          "name": "stdout",
          "output_type": "stream",
          "text": [
            "Sleeping for 1.30 seconds before next request...\n"
          ]
        },
        {
          "metadata": {
            "tags": null
          },
          "name": "stderr",
          "output_type": "stream",
          "text": [
            "\n",
            "Scraping Progress:  30%|███       | 365/1200 [01:33<02:52,  4.83review/s]\u001b[A"
          ]
        },
        {
          "metadata": {
            "tags": null
          },
          "name": "stdout",
          "output_type": "stream",
          "text": [
            "Sleeping for 1.01 seconds before next request...\n"
          ]
        },
        {
          "metadata": {
            "tags": null
          },
          "name": "stderr",
          "output_type": "stream",
          "text": [
            "\n",
            "Scraping Progress:  32%|███▏      | 381/1200 [01:35<02:30,  5.43review/s]\u001b[A"
          ]
        },
        {
          "metadata": {
            "tags": null
          },
          "name": "stdout",
          "output_type": "stream",
          "text": [
            "Sleeping for 1.99 seconds before next request...\n"
          ]
        },
        {
          "metadata": {
            "tags": null
          },
          "name": "stderr",
          "output_type": "stream",
          "text": [
            "\n",
            "Scraping Progress:  33%|███▎      | 397/1200 [01:39<02:41,  4.97review/s]\u001b[A"
          ]
        },
        {
          "metadata": {
            "tags": null
          },
          "name": "stdout",
          "output_type": "stream",
          "text": [
            "Sleeping for 2.43 seconds before next request...\n",
            "\n",
            "[+] Scraping reviews for Volkswagen...\n"
          ]
        },
        {
          "metadata": {
            "tags": null
          },
          "name": "stderr",
          "output_type": "stream",
          "text": [
            "\n",
            "Scraping Progress:  33%|███▎      | 401/1200 [01:43<03:35,  3.71review/s]\u001b[A"
          ]
        },
        {
          "metadata": {
            "tags": null
          },
          "name": "stdout",
          "output_type": "stream",
          "text": [
            "Sleeping for 1.66 seconds before next request...\n"
          ]
        },
        {
          "metadata": {
            "tags": null
          },
          "name": "stderr",
          "output_type": "stream",
          "text": [
            "\n",
            "Scraping Progress:  35%|███▍      | 416/1200 [01:45<03:04,  4.25review/s]\u001b[A"
          ]
        },
        {
          "metadata": {
            "tags": null
          },
          "name": "stdout",
          "output_type": "stream",
          "text": [
            "Sleeping for 2.29 seconds before next request...\n"
          ]
        },
        {
          "metadata": {
            "tags": null
          },
          "name": "stderr",
          "output_type": "stream",
          "text": [
            "\n",
            "Scraping Progress:  36%|███▌      | 431/1200 [01:49<03:01,  4.23review/s]\u001b[A"
          ]
        },
        {
          "metadata": {
            "tags": null
          },
          "name": "stdout",
          "output_type": "stream",
          "text": [
            "Sleeping for 1.34 seconds before next request...\n"
          ]
        },
        {
          "metadata": {
            "tags": null
          },
          "name": "stderr",
          "output_type": "stream",
          "text": [
            "\n",
            "Scraping Progress:  36%|███▌      | 433/1200 [01:52<03:49,  3.34review/s]\u001b[A"
          ]
        },
        {
          "metadata": {
            "tags": null
          },
          "name": "stdout",
          "output_type": "stream",
          "text": [
            "Sleeping for 1.54 seconds before next request...\n"
          ]
        },
        {
          "metadata": {
            "tags": null
          },
          "name": "stderr",
          "output_type": "stream",
          "text": [
            "\n",
            "Scraping Progress:  37%|███▋      | 448/1200 [01:55<03:15,  3.85review/s]\u001b[A"
          ]
        },
        {
          "metadata": {
            "tags": null
          },
          "name": "stdout",
          "output_type": "stream",
          "text": [
            "Sleeping for 2.51 seconds before next request...\n"
          ]
        },
        {
          "metadata": {
            "tags": null
          },
          "name": "stderr",
          "output_type": "stream",
          "text": [
            "\n",
            "Scraping Progress:  39%|███▊      | 463/1200 [01:59<03:14,  3.78review/s]\u001b[A"
          ]
        },
        {
          "metadata": {
            "tags": null
          },
          "name": "stdout",
          "output_type": "stream",
          "text": [
            "Sleeping for 1.24 seconds before next request...\n"
          ]
        },
        {
          "metadata": {
            "tags": null
          },
          "name": "stderr",
          "output_type": "stream",
          "text": [
            "\n",
            "Scraping Progress:  40%|███▉      | 478/1200 [02:01<02:45,  4.35review/s]\u001b[A"
          ]
        },
        {
          "metadata": {
            "tags": null
          },
          "name": "stdout",
          "output_type": "stream",
          "text": [
            "Sleeping for 1.20 seconds before next request...\n"
          ]
        },
        {
          "metadata": {
            "tags": null
          },
          "name": "stderr",
          "output_type": "stream",
          "text": [
            "\n",
            "Scraping Progress:  41%|████      | 493/1200 [02:04<02:31,  4.67review/s]\u001b[A"
          ]
        },
        {
          "metadata": {
            "tags": null
          },
          "name": "stdout",
          "output_type": "stream",
          "text": [
            "Sleeping for 1.06 seconds before next request...\n",
            "\n",
            "[+] Scraping reviews for Mercedes...\n",
            "[-] Request failed for Mercedes on page 1: 404 Client Error: Not Found for url: https://www.careerbliss.com/mercedes/reviews/?page=1\n",
            "\n",
            "[+] Scraping reviews for Toyota...\n"
          ]
        },
        {
          "metadata": {
            "tags": null
          },
          "name": "stderr",
          "output_type": "stream",
          "text": [
            "\n",
            "Scraping Progress:  42%|████▏     | 501/1200 [02:08<03:12,  3.63review/s]\u001b[A"
          ]
        },
        {
          "metadata": {
            "tags": null
          },
          "name": "stdout",
          "output_type": "stream",
          "text": [
            "Sleeping for 2.06 seconds before next request...\n"
          ]
        },
        {
          "metadata": {
            "tags": null
          },
          "name": "stderr",
          "output_type": "stream",
          "text": [
            "\n",
            "Scraping Progress:  43%|████▎     | 516/1200 [02:11<02:54,  3.92review/s]\u001b[A"
          ]
        },
        {
          "metadata": {
            "tags": null
          },
          "name": "stdout",
          "output_type": "stream",
          "text": [
            "Sleeping for 2.63 seconds before next request...\n"
          ]
        },
        {
          "metadata": {
            "tags": null
          },
          "name": "stderr",
          "output_type": "stream",
          "text": [
            "\n",
            "Scraping Progress:  44%|████▍     | 531/1200 [02:16<02:59,  3.72review/s]\u001b[A"
          ]
        },
        {
          "metadata": {
            "tags": null
          },
          "name": "stdout",
          "output_type": "stream",
          "text": [
            "Sleeping for 1.68 seconds before next request...\n"
          ]
        },
        {
          "metadata": {
            "tags": null
          },
          "name": "stderr",
          "output_type": "stream",
          "text": [
            "\n",
            "Scraping Progress:  46%|████▌     | 546/1200 [02:19<02:43,  4.00review/s]\u001b[A"
          ]
        },
        {
          "metadata": {
            "tags": null
          },
          "name": "stdout",
          "output_type": "stream",
          "text": [
            "Sleeping for 1.96 seconds before next request...\n"
          ]
        },
        {
          "output_type": "stream",
          "name": "stderr",
          "text": [
            "\n",
            "Scraping Progress:  47%|████▋     | 561/1200 [02:22<02:29,  4.28review/s]\u001b[A"
          ]
        },
        {
          "output_type": "stream",
          "name": "stdout",
          "text": [
            "Sleeping for 2.96 seconds before next request...\n"
          ]
        },
        {
          "output_type": "stream",
          "name": "stderr",
          "text": [
            "\n",
            "Scraping Progress:  48%|████▊     | 576/1200 [02:27<02:43,  3.81review/s]\u001b[A"
          ]
        },
        {
          "output_type": "stream",
          "name": "stdout",
          "text": [
            "Sleeping for 1.91 seconds before next request...\n"
          ]
        },
        {
          "output_type": "stream",
          "name": "stderr",
          "text": [
            "\n",
            "Scraping Progress:  49%|████▉     | 591/1200 [02:30<02:29,  4.06review/s]\u001b[A"
          ]
        },
        {
          "output_type": "stream",
          "name": "stdout",
          "text": [
            "Sleeping for 1.72 seconds before next request...\n",
            "\n",
            "[+] Scraping reviews for Mastercard...\n"
          ]
        },
        {
          "output_type": "stream",
          "name": "stderr",
          "text": [
            "\n",
            "Scraping Progress:  50%|█████     | 601/1200 [02:33<02:33,  3.91review/s]\u001b[A"
          ]
        },
        {
          "output_type": "stream",
          "name": "stdout",
          "text": [
            "Sleeping for 1.08 seconds before next request...\n"
          ]
        },
        {
          "output_type": "stream",
          "name": "stderr",
          "text": [
            "\n",
            "Scraping Progress:  51%|█████▏    | 616/1200 [02:35<02:07,  4.59review/s]\u001b[A"
          ]
        },
        {
          "output_type": "stream",
          "name": "stdout",
          "text": [
            "Sleeping for 1.50 seconds before next request...\n"
          ]
        },
        {
          "output_type": "stream",
          "name": "stderr",
          "text": [
            "\n",
            "Scraping Progress:  53%|█████▎    | 631/1200 [02:37<01:54,  4.99review/s]\u001b[A"
          ]
        },
        {
          "output_type": "stream",
          "name": "stdout",
          "text": [
            "Sleeping for 2.27 seconds before next request...\n"
          ]
        },
        {
          "output_type": "stream",
          "name": "stderr",
          "text": [
            "\n",
            "Scraping Progress:  53%|█████▎    | 633/1200 [02:41<02:48,  3.37review/s]\u001b[A"
          ]
        },
        {
          "output_type": "stream",
          "name": "stdout",
          "text": [
            "Sleeping for 1.54 seconds before next request...\n"
          ]
        },
        {
          "output_type": "stream",
          "name": "stderr",
          "text": [
            "\n",
            "Scraping Progress:  54%|█████▍    | 648/1200 [02:44<02:19,  3.96review/s]\u001b[A"
          ]
        },
        {
          "output_type": "stream",
          "name": "stdout",
          "text": [
            "Sleeping for 1.34 seconds before next request...\n"
          ]
        },
        {
          "output_type": "stream",
          "name": "stderr",
          "text": [
            "\n",
            "Scraping Progress:  55%|█████▌    | 663/1200 [02:46<02:00,  4.44review/s]\u001b[A"
          ]
        },
        {
          "output_type": "stream",
          "name": "stdout",
          "text": [
            "Sleeping for 1.86 seconds before next request...\n"
          ]
        },
        {
          "output_type": "stream",
          "name": "stderr",
          "text": [
            "\n",
            "Scraping Progress:  56%|█████▋    | 678/1200 [02:50<01:55,  4.51review/s]\u001b[A"
          ]
        },
        {
          "output_type": "stream",
          "name": "stdout",
          "text": [
            "Sleeping for 1.38 seconds before next request...\n"
          ]
        },
        {
          "output_type": "stream",
          "name": "stderr",
          "text": [
            "\n",
            "Scraping Progress:  58%|█████▊    | 693/1200 [02:52<01:45,  4.80review/s]\u001b[A"
          ]
        },
        {
          "output_type": "stream",
          "name": "stdout",
          "text": [
            "Sleeping for 2.81 seconds before next request...\n",
            "\n",
            "[+] Scraping reviews for Costco...\n"
          ]
        },
        {
          "output_type": "stream",
          "name": "stderr",
          "text": [
            "\n",
            "Scraping Progress:  58%|█████▊    | 701/1200 [02:57<02:16,  3.65review/s]\u001b[A"
          ]
        },
        {
          "output_type": "stream",
          "name": "stdout",
          "text": [
            "Sleeping for 1.42 seconds before next request...\n"
          ]
        },
        {
          "output_type": "stream",
          "name": "stderr",
          "text": [
            "\n",
            "Scraping Progress:  60%|█████▉    | 716/1200 [02:59<01:55,  4.18review/s]\u001b[A"
          ]
        },
        {
          "output_type": "stream",
          "name": "stdout",
          "text": [
            "Sleeping for 2.14 seconds before next request...\n"
          ]
        },
        {
          "output_type": "stream",
          "name": "stderr",
          "text": [
            "\n",
            "Scraping Progress:  61%|██████    | 731/1200 [03:02<01:47,  4.34review/s]\u001b[A"
          ]
        },
        {
          "output_type": "stream",
          "name": "stdout",
          "text": [
            "Sleeping for 1.14 seconds before next request...\n"
          ]
        },
        {
          "output_type": "stream",
          "name": "stderr",
          "text": [
            "\n",
            "Scraping Progress:  62%|██████▏   | 746/1200 [03:05<01:32,  4.93review/s]\u001b[A"
          ]
        },
        {
          "output_type": "stream",
          "name": "stdout",
          "text": [
            "Sleeping for 2.72 seconds before next request...\n"
          ]
        },
        {
          "output_type": "stream",
          "name": "stderr",
          "text": [
            "\n",
            "Scraping Progress:  63%|██████▎   | 761/1200 [03:09<01:39,  4.40review/s]\u001b[A"
          ]
        },
        {
          "output_type": "stream",
          "name": "stdout",
          "text": [
            "Sleeping for 2.46 seconds before next request...\n"
          ]
        },
        {
          "output_type": "stream",
          "name": "stderr",
          "text": [
            "\n",
            "Scraping Progress:  65%|██████▍   | 776/1200 [03:13<01:41,  4.17review/s]\u001b[A"
          ]
        },
        {
          "output_type": "stream",
          "name": "stdout",
          "text": [
            "Sleeping for 2.18 seconds before next request...\n"
          ]
        },
        {
          "output_type": "stream",
          "name": "stderr",
          "text": [
            "\n",
            "Scraping Progress:  66%|██████▌   | 791/1200 [03:16<01:35,  4.30review/s]\u001b[A"
          ]
        },
        {
          "output_type": "stream",
          "name": "stdout",
          "text": [
            "Sleeping for 1.27 seconds before next request...\n",
            "\n",
            "[+] Scraping reviews for Disney...\n"
          ]
        },
        {
          "output_type": "stream",
          "name": "stderr",
          "text": [
            "\n",
            "Scraping Progress:  67%|██████▋   | 801/1200 [03:19<01:35,  4.18review/s]\u001b[A"
          ]
        },
        {
          "output_type": "stream",
          "name": "stdout",
          "text": [
            "Sleeping for 2.14 seconds before next request...\n"
          ]
        },
        {
          "output_type": "stream",
          "name": "stderr",
          "text": [
            "\n",
            "Scraping Progress:  67%|██████▋   | 809/1200 [03:22<01:53,  3.46review/s]\u001b[A"
          ]
        },
        {
          "output_type": "stream",
          "name": "stdout",
          "text": [
            "Sleeping for 1.84 seconds before next request...\n"
          ]
        },
        {
          "output_type": "stream",
          "name": "stderr",
          "text": [
            "\n",
            "Scraping Progress:  69%|██████▊   | 824/1200 [03:26<01:37,  3.84review/s]\u001b[A"
          ]
        },
        {
          "output_type": "stream",
          "name": "stdout",
          "text": [
            "Sleeping for 1.10 seconds before next request...\n"
          ]
        },
        {
          "output_type": "stream",
          "name": "stderr",
          "text": [
            "\n",
            "Scraping Progress:  70%|██████▉   | 839/1200 [03:28<01:21,  4.42review/s]\u001b[A"
          ]
        },
        {
          "output_type": "stream",
          "name": "stdout",
          "text": [
            "Sleeping for 2.88 seconds before next request...\n"
          ]
        },
        {
          "output_type": "stream",
          "name": "stderr",
          "text": [
            "\n",
            "Scraping Progress:  71%|███████   | 854/1200 [03:32<01:26,  4.00review/s]\u001b[A"
          ]
        },
        {
          "output_type": "stream",
          "name": "stdout",
          "text": [
            "Sleeping for 2.36 seconds before next request...\n"
          ]
        },
        {
          "output_type": "stream",
          "name": "stderr",
          "text": [
            "\n",
            "Scraping Progress:  72%|███████▏  | 869/1200 [03:36<01:23,  3.95review/s]\u001b[A"
          ]
        },
        {
          "output_type": "stream",
          "name": "stdout",
          "text": [
            "Sleeping for 1.17 seconds before next request...\n"
          ]
        },
        {
          "output_type": "stream",
          "name": "stderr",
          "text": [
            "\n",
            "Scraping Progress:  74%|███████▎  | 884/1200 [03:39<01:12,  4.34review/s]\u001b[A"
          ]
        },
        {
          "output_type": "stream",
          "name": "stdout",
          "text": [
            "Sleeping for 1.76 seconds before next request...\n"
          ]
        },
        {
          "output_type": "stream",
          "name": "stderr",
          "text": [
            "\n",
            "Scraping Progress:  75%|███████▍  | 899/1200 [03:42<01:08,  4.40review/s]\u001b[A"
          ]
        },
        {
          "output_type": "stream",
          "name": "stdout",
          "text": [
            "Sleeping for 1.84 seconds before next request...\n",
            "\n",
            "[+] Scraping reviews for Netflix...\n"
          ]
        },
        {
          "output_type": "stream",
          "name": "stderr",
          "text": [
            "\n",
            "Scraping Progress:  75%|███████▌  | 901/1200 [03:45<01:26,  3.46review/s]\u001b[A"
          ]
        },
        {
          "output_type": "stream",
          "name": "stdout",
          "text": [
            "Sleeping for 2.91 seconds before next request...\n"
          ]
        },
        {
          "output_type": "stream",
          "name": "stderr",
          "text": [
            "\n",
            "Scraping Progress:  76%|███████▌  | 909/1200 [03:50<01:43,  2.81review/s]\u001b[A"
          ]
        },
        {
          "output_type": "stream",
          "name": "stdout",
          "text": [
            "Sleeping for 2.40 seconds before next request...\n"
          ]
        },
        {
          "output_type": "stream",
          "name": "stderr",
          "text": [
            "\n",
            "Scraping Progress:  77%|███████▋  | 924/1200 [03:53<01:26,  3.20review/s]\u001b[A"
          ]
        },
        {
          "output_type": "stream",
          "name": "stdout",
          "text": [
            "Sleeping for 2.57 seconds before next request...\n"
          ]
        },
        {
          "output_type": "stream",
          "name": "stderr",
          "text": [
            "\n",
            "Scraping Progress:  78%|███████▊  | 939/1200 [03:57<01:16,  3.42review/s]\u001b[A"
          ]
        },
        {
          "output_type": "stream",
          "name": "stdout",
          "text": [
            "Sleeping for 1.01 seconds before next request...\n"
          ]
        },
        {
          "output_type": "stream",
          "name": "stderr",
          "text": [
            "\n",
            "Scraping Progress:  80%|███████▉  | 954/1200 [04:00<01:01,  4.01review/s]\u001b[A"
          ]
        },
        {
          "output_type": "stream",
          "name": "stdout",
          "text": [
            "Sleeping for 1.01 seconds before next request...\n"
          ]
        },
        {
          "output_type": "stream",
          "name": "stderr",
          "text": [
            "\n",
            "Scraping Progress:  81%|████████  | 969/1200 [04:02<00:51,  4.44review/s]\u001b[A"
          ]
        },
        {
          "output_type": "stream",
          "name": "stdout",
          "text": [
            "Sleeping for 1.79 seconds before next request...\n"
          ]
        },
        {
          "output_type": "stream",
          "name": "stderr",
          "text": [
            "\n",
            "Scraping Progress:  82%|████████▏ | 984/1200 [04:05<00:47,  4.52review/s]\u001b[A"
          ]
        },
        {
          "output_type": "stream",
          "name": "stdout",
          "text": [
            "Sleeping for 1.80 seconds before next request...\n"
          ]
        },
        {
          "output_type": "stream",
          "name": "stderr",
          "text": [
            "\n",
            "Scraping Progress:  83%|████████▎ | 999/1200 [04:08<00:43,  4.64review/s]\u001b[A"
          ]
        },
        {
          "output_type": "stream",
          "name": "stdout",
          "text": [
            "Sleeping for 2.06 seconds before next request...\n",
            "\n",
            "[+] Scraping reviews for Walmart...\n"
          ]
        },
        {
          "output_type": "stream",
          "name": "stderr",
          "text": [
            "\n",
            "Scraping Progress:  83%|████████▎ | 1001/1200 [04:13<01:04,  3.07review/s]\u001b[A"
          ]
        },
        {
          "output_type": "stream",
          "name": "stdout",
          "text": [
            "Sleeping for 1.16 seconds before next request...\n"
          ]
        },
        {
          "output_type": "stream",
          "name": "stderr",
          "text": [
            "\n",
            "Scraping Progress:  85%|████████▍ | 1017/1200 [04:16<00:51,  3.56review/s]\u001b[A"
          ]
        },
        {
          "output_type": "stream",
          "name": "stdout",
          "text": [
            "Sleeping for 2.77 seconds before next request...\n"
          ]
        },
        {
          "output_type": "stream",
          "name": "stderr",
          "text": [
            "\n",
            "Scraping Progress:  86%|████████▌ | 1033/1200 [04:21<00:48,  3.41review/s]\u001b[A"
          ]
        },
        {
          "output_type": "stream",
          "name": "stdout",
          "text": [
            "Sleeping for 2.32 seconds before next request...\n"
          ]
        },
        {
          "output_type": "stream",
          "name": "stderr",
          "text": [
            "\n",
            "Scraping Progress:  87%|████████▋ | 1049/1200 [04:25<00:40,  3.70review/s]\u001b[A"
          ]
        },
        {
          "output_type": "stream",
          "name": "stdout",
          "text": [
            "Sleeping for 2.54 seconds before next request...\n"
          ]
        },
        {
          "output_type": "stream",
          "name": "stderr",
          "text": [
            "\n",
            "Scraping Progress:  89%|████████▉ | 1065/1200 [04:29<00:35,  3.81review/s]\u001b[A"
          ]
        },
        {
          "output_type": "stream",
          "name": "stdout",
          "text": [
            "Sleeping for 2.38 seconds before next request...\n"
          ]
        },
        {
          "output_type": "stream",
          "name": "stderr",
          "text": [
            "\n",
            "Scraping Progress:  90%|█████████ | 1081/1200 [04:33<00:32,  3.68review/s]\u001b[A"
          ]
        },
        {
          "output_type": "stream",
          "name": "stdout",
          "text": [
            "Sleeping for 1.70 seconds before next request...\n"
          ]
        },
        {
          "output_type": "stream",
          "name": "stderr",
          "text": [
            "\n",
            "Scraping Progress:  91%|█████████▏| 1097/1200 [04:36<00:25,  4.08review/s]\u001b[A"
          ]
        },
        {
          "output_type": "stream",
          "name": "stdout",
          "text": [
            "Sleeping for 1.20 seconds before next request...\n"
          ]
        },
        {
          "output_type": "stream",
          "name": "stderr",
          "text": [
            "\rScraping Progress:  92%|█████████▏| 1100/1200 [04:38<00:25,  3.95review/s]"
          ]
        },
        {
          "output_type": "stream",
          "name": "stdout",
          "text": [
            "\n",
            "✅ Scraping complete! Data saved to 'careerbliss_reviews_fixed.csv'\n"
          ]
        },
        {
          "output_type": "stream",
          "name": "stderr",
          "text": [
            "\n"
          ]
        }
      ]
    },
    {
      "cell_type": "markdown",
      "source": [
        "## 기업별 수집 개수 400개로 증가"
      ],
      "metadata": {
        "id": "-aLytlrf0jWP"
      }
    },
    {
      "cell_type": "code",
      "source": [
        "import requests\n",
        "from bs4 import BeautifulSoup\n",
        "import pandas as pd\n",
        "import time\n",
        "import random\n",
        "from tqdm import tqdm  # 진행률 표시\n",
        "\n",
        "# 크롤링할 기업 리스트\n",
        "companies = [\n",
        "    \"Tesla\", \"Nvidia\", \"Apple\"\n",
        "]\n",
        "\n",
        "# CareerBliss 리뷰 URL\n",
        "BASE_URL = \"https://www.careerbliss.com/{}/reviews/?page={}\"\n",
        "\n",
        "# User-Agent 설정 (차단 방지)\n",
        "HEADERS = {\n",
        "    \"User-Agent\": \"Mozilla/5.0 (Macintosh; Intel Mac OS X 10_15_7) AppleWebKit/537.36 (KHTML, like Gecko) Chrome/110.0.0.0 Safari/537.36\"\n",
        "}\n",
        "\n",
        "# 데이터 저장 리스트\n",
        "data = []\n",
        "\n",
        "# 총 작업량 설정 (기업 수 * 400개 리뷰 최대값)\n",
        "total_reviews = len(companies) * 400\n",
        "progress_bar = tqdm(total=total_reviews, desc=\"Scraping Progress\", unit=\"review\")\n",
        "\n",
        "# 각 기업별 크롤링\n",
        "for company in companies:\n",
        "    print(f\"\\n[+] Scraping reviews for {company}...\")\n",
        "\n",
        "    company_reviews = []\n",
        "    page = 1\n",
        "\n",
        "    while len(company_reviews) < 400:  # 최대 400개 리뷰 수집\n",
        "        url = BASE_URL.format(company.lower(), page)\n",
        "\n",
        "        try:\n",
        "            response = requests.get(url, headers=HEADERS, timeout=10)\n",
        "            response.raise_for_status()\n",
        "        except requests.exceptions.RequestException as e:\n",
        "            print(f\"[-] Request failed for {company} on page {page}: {e}\")\n",
        "            break\n",
        "\n",
        "        soup = BeautifulSoup(response.text, \"html.parser\")\n",
        "\n",
        "        # 리뷰 컨테이너 찾기\n",
        "        reviews = soup.find_all(\"div\", class_=\"company-reviews\")\n",
        "        if not reviews:\n",
        "            print(f\"[-] No more reviews found for {company} on page {page}\")\n",
        "            break\n",
        "\n",
        "        for review in reviews:\n",
        "            if len(company_reviews) >= 400:  # 400개 넘어가면 종료\n",
        "                break\n",
        "\n",
        "            # 직책 (Job Title)\n",
        "            job_title = review.find(\"a\", class_=\"header5\")\n",
        "            job_title = job_title.text.strip() if job_title else \"Unknown\"\n",
        "\n",
        "            # 전체 평점 (Overall Rating)\n",
        "            rating_stars = review.find(\"div\", class_=\"rating large-star\")\n",
        "            if rating_stars:\n",
        "                full_stars = len(rating_stars.find_all(\"span\", class_=\"full\"))\n",
        "                half_stars = len(rating_stars.find_all(\"span\", class_=\"half\"))\n",
        "                overall_rating = full_stars + (0.5 * half_stars)\n",
        "            else:\n",
        "                overall_rating = \"Unknown\"\n",
        "\n",
        "            # 세부 항목 점수\n",
        "            rating_details = {}\n",
        "            categories = review.find_all(\"span\", class_=\"span3 header9 text-right category\")\n",
        "            scores = review.find_all(\"span\", class_=\"span1 header8 value\")\n",
        "\n",
        "            for cat, score in zip(categories, scores):\n",
        "                category_name = cat.text.strip()\n",
        "                rating_score = score.text.strip()\n",
        "                rating_details[category_name] = rating_score\n",
        "\n",
        "            # 데이터 추가\n",
        "            company_reviews.append({\n",
        "                \"Company\": company,\n",
        "                \"Job Title\": job_title,\n",
        "                \"Overall Rating\": overall_rating,\n",
        "                **rating_details\n",
        "            })\n",
        "\n",
        "            # 진행률 바 업데이트\n",
        "            progress_bar.update(1)\n",
        "\n",
        "        page += 1\n",
        "        sleep_time = random.uniform(1, 2)  # 1~2초 랜덤 대기\n",
        "        print(f\"Sleeping for {sleep_time:.2f} seconds before next request...\")\n",
        "        time.sleep(sleep_time)\n",
        "\n",
        "    data.extend(company_reviews)\n",
        "\n",
        "# 진행률 바 종료\n",
        "progress_bar.close()\n",
        "\n",
        "# DataFrame 생성\n",
        "df = pd.DataFrame(data)\n",
        "\n",
        "# CSV 저장\n",
        "df.to_csv(\"careerbliss_reviews_fixed.csv\", index=False, encoding=\"utf-8-sig\")\n",
        "print(\"\\n✅ Scraping complete! Data saved to 'careerbliss_reviews_fixed.csv'\")\n"
      ],
      "metadata": {
        "colab": {
          "base_uri": "https://localhost:8080/"
        },
        "id": "c6M6_HzpkUgT",
        "outputId": "2f72cb3b-a784-4f8f-b8c0-552d7b4792bf"
      },
      "execution_count": null,
      "outputs": [
        {
          "output_type": "stream",
          "name": "stderr",
          "text": [
            "\n",
            "Scraping Progress: 100%|██████████| 100/100 [03:59<00:00,  2.39s/review]\n"
          ]
        },
        {
          "output_type": "stream",
          "name": "stdout",
          "text": [
            "\n",
            "[+] Scraping reviews for Tesla...\n"
          ]
        },
        {
          "output_type": "stream",
          "name": "stderr",
          "text": [
            "\n",
            "Scraping Progress:   0%|          | 1/1200 [00:01<25:49,  1.29s/review]\u001b[A"
          ]
        },
        {
          "output_type": "stream",
          "name": "stdout",
          "text": [
            "Sleeping for 1.89 seconds before next request...\n"
          ]
        },
        {
          "output_type": "stream",
          "name": "stderr",
          "text": [
            "\n",
            "Scraping Progress:   1%|▏         | 17/1200 [00:04<04:25,  4.45review/s]\u001b[A"
          ]
        },
        {
          "output_type": "stream",
          "name": "stdout",
          "text": [
            "Sleeping for 1.14 seconds before next request...\n"
          ]
        },
        {
          "output_type": "stream",
          "name": "stderr",
          "text": [
            "\n",
            "Scraping Progress:   3%|▎         | 33/1200 [00:06<03:39,  5.32review/s]\u001b[A"
          ]
        },
        {
          "output_type": "stream",
          "name": "stdout",
          "text": [
            "Sleeping for 1.63 seconds before next request...\n"
          ]
        },
        {
          "output_type": "stream",
          "name": "stderr",
          "text": [
            "\n",
            "Scraping Progress:   4%|▍         | 49/1200 [00:09<03:33,  5.39review/s]\u001b[A"
          ]
        },
        {
          "output_type": "stream",
          "name": "stdout",
          "text": [
            "Sleeping for 1.49 seconds before next request...\n"
          ]
        },
        {
          "output_type": "stream",
          "name": "stderr",
          "text": [
            "\n",
            "Scraping Progress:   5%|▌         | 65/1200 [00:12<03:29,  5.42review/s]\u001b[A"
          ]
        },
        {
          "output_type": "stream",
          "name": "stdout",
          "text": [
            "Sleeping for 1.28 seconds before next request...\n"
          ]
        },
        {
          "output_type": "stream",
          "name": "stderr",
          "text": [
            "\n",
            "Scraping Progress:   7%|▋         | 81/1200 [00:14<03:06,  5.99review/s]\u001b[A"
          ]
        },
        {
          "output_type": "stream",
          "name": "stdout",
          "text": [
            "Sleeping for 1.03 seconds before next request...\n"
          ]
        },
        {
          "output_type": "stream",
          "name": "stderr",
          "text": [
            "\n",
            "Scraping Progress:   8%|▊         | 97/1200 [00:17<03:06,  5.92review/s]\u001b[A"
          ]
        },
        {
          "output_type": "stream",
          "name": "stdout",
          "text": [
            "Sleeping for 1.55 seconds before next request...\n"
          ]
        },
        {
          "output_type": "stream",
          "name": "stderr",
          "text": [
            "\n",
            "Scraping Progress:   9%|▉         | 113/1200 [00:20<03:09,  5.73review/s]\u001b[A"
          ]
        },
        {
          "output_type": "stream",
          "name": "stdout",
          "text": [
            "Sleeping for 1.65 seconds before next request...\n"
          ]
        },
        {
          "output_type": "stream",
          "name": "stderr",
          "text": [
            "\n",
            "Scraping Progress:  11%|█         | 129/1200 [00:23<03:03,  5.84review/s]\u001b[A"
          ]
        },
        {
          "output_type": "stream",
          "name": "stdout",
          "text": [
            "Sleeping for 1.44 seconds before next request...\n"
          ]
        },
        {
          "output_type": "stream",
          "name": "stderr",
          "text": [
            "\n",
            "Scraping Progress:  12%|█▏        | 138/1200 [00:25<03:31,  5.02review/s]\u001b[A"
          ]
        },
        {
          "output_type": "stream",
          "name": "stdout",
          "text": [
            "Sleeping for 1.82 seconds before next request...\n"
          ]
        },
        {
          "output_type": "stream",
          "name": "stderr",
          "text": [
            "\n",
            "Scraping Progress:  13%|█▎        | 154/1200 [00:28<03:25,  5.08review/s]\u001b[A"
          ]
        },
        {
          "output_type": "stream",
          "name": "stdout",
          "text": [
            "Sleeping for 1.31 seconds before next request...\n"
          ]
        },
        {
          "output_type": "stream",
          "name": "stderr",
          "text": [
            "\n",
            "Scraping Progress:  14%|█▍        | 170/1200 [00:31<03:11,  5.39review/s]\u001b[A"
          ]
        },
        {
          "output_type": "stream",
          "name": "stdout",
          "text": [
            "Sleeping for 1.05 seconds before next request...\n"
          ]
        },
        {
          "output_type": "stream",
          "name": "stderr",
          "text": [
            "\n",
            "Scraping Progress:  16%|█▌        | 186/1200 [00:33<02:56,  5.75review/s]\u001b[A"
          ]
        },
        {
          "output_type": "stream",
          "name": "stdout",
          "text": [
            "Sleeping for 1.37 seconds before next request...\n"
          ]
        },
        {
          "output_type": "stream",
          "name": "stderr",
          "text": [
            "\n",
            "Scraping Progress:  17%|█▋        | 202/1200 [00:36<02:50,  5.87review/s]\u001b[A"
          ]
        },
        {
          "output_type": "stream",
          "name": "stdout",
          "text": [
            "Sleeping for 1.49 seconds before next request...\n"
          ]
        },
        {
          "output_type": "stream",
          "name": "stderr",
          "text": [
            "\n",
            "Scraping Progress:  18%|█▊        | 218/1200 [00:39<02:44,  5.98review/s]\u001b[A"
          ]
        },
        {
          "output_type": "stream",
          "name": "stdout",
          "text": [
            "Sleeping for 1.88 seconds before next request...\n"
          ]
        },
        {
          "output_type": "stream",
          "name": "stderr",
          "text": [
            "\n",
            "Scraping Progress:  20%|█▉        | 234/1200 [00:42<02:48,  5.74review/s]\u001b[A"
          ]
        },
        {
          "output_type": "stream",
          "name": "stdout",
          "text": [
            "Sleeping for 1.16 seconds before next request...\n"
          ]
        },
        {
          "output_type": "stream",
          "name": "stderr",
          "text": [
            "\n",
            "Scraping Progress:  21%|██        | 250/1200 [00:44<02:37,  6.02review/s]\u001b[A"
          ]
        },
        {
          "output_type": "stream",
          "name": "stdout",
          "text": [
            "Sleeping for 1.60 seconds before next request...\n"
          ]
        },
        {
          "output_type": "stream",
          "name": "stderr",
          "text": [
            "\n",
            "Scraping Progress:  22%|██▏       | 266/1200 [00:47<02:41,  5.80review/s]\u001b[A"
          ]
        },
        {
          "output_type": "stream",
          "name": "stdout",
          "text": [
            "Sleeping for 1.47 seconds before next request...\n"
          ]
        },
        {
          "output_type": "stream",
          "name": "stderr",
          "text": [
            "\n",
            "Scraping Progress:  24%|██▎       | 282/1200 [00:50<02:34,  5.95review/s]\u001b[A"
          ]
        },
        {
          "output_type": "stream",
          "name": "stdout",
          "text": [
            "Sleeping for 1.15 seconds before next request...\n"
          ]
        },
        {
          "output_type": "stream",
          "name": "stderr",
          "text": [
            "\n",
            "Scraping Progress:  25%|██▍       | 298/1200 [00:52<02:26,  6.16review/s]\u001b[A"
          ]
        },
        {
          "output_type": "stream",
          "name": "stdout",
          "text": [
            "Sleeping for 1.28 seconds before next request...\n"
          ]
        },
        {
          "output_type": "stream",
          "name": "stderr",
          "text": [
            "\n",
            "Scraping Progress:  26%|██▌       | 314/1200 [00:54<02:22,  6.20review/s]\u001b[A"
          ]
        },
        {
          "output_type": "stream",
          "name": "stdout",
          "text": [
            "Sleeping for 1.10 seconds before next request...\n"
          ]
        },
        {
          "output_type": "stream",
          "name": "stderr",
          "text": [
            "\n",
            "Scraping Progress:  28%|██▊       | 330/1200 [00:57<02:19,  6.21review/s]\u001b[A"
          ]
        },
        {
          "output_type": "stream",
          "name": "stdout",
          "text": [
            "Sleeping for 1.28 seconds before next request...\n"
          ]
        },
        {
          "output_type": "stream",
          "name": "stderr",
          "text": [
            "\n",
            "Scraping Progress:  29%|██▉       | 346/1200 [01:00<02:20,  6.10review/s]\u001b[A"
          ]
        },
        {
          "output_type": "stream",
          "name": "stdout",
          "text": [
            "Sleeping for 1.29 seconds before next request...\n"
          ]
        },
        {
          "output_type": "stream",
          "name": "stderr",
          "text": [
            "\n",
            "Scraping Progress:  30%|███       | 362/1200 [01:02<02:16,  6.15review/s]\u001b[A"
          ]
        },
        {
          "output_type": "stream",
          "name": "stdout",
          "text": [
            "Sleeping for 1.53 seconds before next request...\n"
          ]
        },
        {
          "output_type": "stream",
          "name": "stderr",
          "text": [
            "\n",
            "Scraping Progress:  32%|███▏      | 378/1200 [01:05<02:15,  6.06review/s]\u001b[A"
          ]
        },
        {
          "output_type": "stream",
          "name": "stdout",
          "text": [
            "Sleeping for 1.03 seconds before next request...\n"
          ]
        },
        {
          "output_type": "stream",
          "name": "stderr",
          "text": [
            "\n",
            "Scraping Progress:  33%|███▎      | 394/1200 [01:07<02:04,  6.47review/s]\u001b[A"
          ]
        },
        {
          "output_type": "stream",
          "name": "stdout",
          "text": [
            "Sleeping for 1.77 seconds before next request...\n",
            "\n",
            "[+] Scraping reviews for Nvidia...\n"
          ]
        },
        {
          "output_type": "stream",
          "name": "stderr",
          "text": [
            "\n",
            "Scraping Progress:  33%|███▎      | 401/1200 [01:10<02:34,  5.18review/s]\u001b[A"
          ]
        },
        {
          "output_type": "stream",
          "name": "stdout",
          "text": [
            "Sleeping for 1.76 seconds before next request...\n"
          ]
        },
        {
          "output_type": "stream",
          "name": "stderr",
          "text": [
            "\n",
            "Scraping Progress:  35%|███▍      | 416/1200 [01:13<02:30,  5.21review/s]\u001b[A"
          ]
        },
        {
          "output_type": "stream",
          "name": "stdout",
          "text": [
            "Sleeping for 1.08 seconds before next request...\n"
          ]
        },
        {
          "output_type": "stream",
          "name": "stderr",
          "text": [
            "\n",
            "Scraping Progress:  36%|███▌      | 431/1200 [01:15<02:14,  5.71review/s]\u001b[A"
          ]
        },
        {
          "output_type": "stream",
          "name": "stdout",
          "text": [
            "Sleeping for 1.11 seconds before next request...\n"
          ]
        },
        {
          "output_type": "stream",
          "name": "stderr",
          "text": [
            "\n",
            "Scraping Progress:  37%|███▋      | 439/1200 [01:17<02:32,  5.00review/s]\u001b[A"
          ]
        },
        {
          "output_type": "stream",
          "name": "stdout",
          "text": [
            "Sleeping for 1.73 seconds before next request...\n"
          ]
        },
        {
          "output_type": "stream",
          "name": "stderr",
          "text": [
            "\n",
            "Scraping Progress:  38%|███▊      | 454/1200 [01:20<02:21,  5.26review/s]\u001b[A"
          ]
        },
        {
          "output_type": "stream",
          "name": "stdout",
          "text": [
            "Sleeping for 1.03 seconds before next request...\n"
          ]
        },
        {
          "output_type": "stream",
          "name": "stderr",
          "text": [
            "\n",
            "Scraping Progress:  39%|███▉      | 469/1200 [01:22<02:11,  5.56review/s]\u001b[A"
          ]
        },
        {
          "output_type": "stream",
          "name": "stdout",
          "text": [
            "Sleeping for 1.16 seconds before next request...\n"
          ]
        },
        {
          "output_type": "stream",
          "name": "stderr",
          "text": [
            "\n",
            "Scraping Progress:  40%|████      | 484/1200 [01:24<01:58,  6.05review/s]\u001b[A"
          ]
        },
        {
          "output_type": "stream",
          "name": "stdout",
          "text": [
            "Sleeping for 1.01 seconds before next request...\n"
          ]
        },
        {
          "output_type": "stream",
          "name": "stderr",
          "text": [
            "\n",
            "Scraping Progress:  42%|████▏     | 499/1200 [01:26<01:46,  6.58review/s]\u001b[A"
          ]
        },
        {
          "output_type": "stream",
          "name": "stdout",
          "text": [
            "Sleeping for 1.58 seconds before next request...\n"
          ]
        },
        {
          "output_type": "stream",
          "name": "stderr",
          "text": [
            "\n",
            "Scraping Progress:  43%|████▎     | 514/1200 [01:29<01:53,  6.05review/s]\u001b[A"
          ]
        },
        {
          "output_type": "stream",
          "name": "stdout",
          "text": [
            "Sleeping for 1.72 seconds before next request...\n"
          ]
        },
        {
          "output_type": "stream",
          "name": "stderr",
          "text": [
            "\n",
            "Scraping Progress:  44%|████▍     | 529/1200 [01:32<01:52,  5.95review/s]\u001b[A"
          ]
        },
        {
          "output_type": "stream",
          "name": "stdout",
          "text": [
            "Sleeping for 1.50 seconds before next request...\n"
          ]
        },
        {
          "output_type": "stream",
          "name": "stderr",
          "text": [
            "\n",
            "Scraping Progress:  45%|████▌     | 544/1200 [01:34<01:47,  6.08review/s]\u001b[A"
          ]
        },
        {
          "output_type": "stream",
          "name": "stdout",
          "text": [
            "Sleeping for 1.28 seconds before next request...\n"
          ]
        },
        {
          "output_type": "stream",
          "name": "stderr",
          "text": [
            "\n",
            "Scraping Progress:  47%|████▋     | 559/1200 [01:36<01:41,  6.29review/s]\u001b[A"
          ]
        },
        {
          "output_type": "stream",
          "name": "stdout",
          "text": [
            "Sleeping for 1.26 seconds before next request...\n"
          ]
        },
        {
          "output_type": "stream",
          "name": "stderr",
          "text": [
            "\n",
            "Scraping Progress:  48%|████▊     | 574/1200 [01:38<01:35,  6.53review/s]\u001b[A"
          ]
        },
        {
          "output_type": "stream",
          "name": "stdout",
          "text": [
            "Sleeping for 1.54 seconds before next request...\n"
          ]
        },
        {
          "output_type": "stream",
          "name": "stderr",
          "text": [
            "\n",
            "Scraping Progress:  49%|████▉     | 589/1200 [01:41<01:35,  6.43review/s]\u001b[A"
          ]
        },
        {
          "output_type": "stream",
          "name": "stdout",
          "text": [
            "Sleeping for 1.66 seconds before next request...\n"
          ]
        },
        {
          "output_type": "stream",
          "name": "stderr",
          "text": [
            "\n",
            "Scraping Progress:  50%|█████     | 604/1200 [01:43<01:37,  6.14review/s]\u001b[A"
          ]
        },
        {
          "output_type": "stream",
          "name": "stdout",
          "text": [
            "Sleeping for 1.37 seconds before next request...\n"
          ]
        },
        {
          "output_type": "stream",
          "name": "stderr",
          "text": [
            "\n",
            "Scraping Progress:  52%|█████▏    | 619/1200 [01:46<01:33,  6.24review/s]\u001b[A"
          ]
        },
        {
          "output_type": "stream",
          "name": "stdout",
          "text": [
            "Sleeping for 1.02 seconds before next request...\n"
          ]
        },
        {
          "output_type": "stream",
          "name": "stderr",
          "text": [
            "\n",
            "Scraping Progress:  53%|█████▎    | 634/1200 [01:48<01:28,  6.41review/s]\u001b[A"
          ]
        },
        {
          "output_type": "stream",
          "name": "stdout",
          "text": [
            "Sleeping for 1.07 seconds before next request...\n"
          ]
        },
        {
          "output_type": "stream",
          "name": "stderr",
          "text": [
            "\n",
            "Scraping Progress:  54%|█████▍    | 649/1200 [01:50<01:24,  6.53review/s]\u001b[A"
          ]
        },
        {
          "output_type": "stream",
          "name": "stdout",
          "text": [
            "Sleeping for 1.16 seconds before next request...\n"
          ]
        },
        {
          "output_type": "stream",
          "name": "stderr",
          "text": [
            "\n",
            "Scraping Progress:  55%|█████▌    | 664/1200 [01:52<01:19,  6.71review/s]\u001b[A"
          ]
        },
        {
          "output_type": "stream",
          "name": "stdout",
          "text": [
            "Sleeping for 1.30 seconds before next request...\n"
          ]
        },
        {
          "output_type": "stream",
          "name": "stderr",
          "text": [
            "\n",
            "Scraping Progress:  57%|█████▋    | 679/1200 [01:55<01:20,  6.47review/s]\u001b[A"
          ]
        },
        {
          "output_type": "stream",
          "name": "stdout",
          "text": [
            "Sleeping for 1.95 seconds before next request...\n"
          ]
        },
        {
          "output_type": "stream",
          "name": "stderr",
          "text": [
            "\n",
            "Scraping Progress:  58%|█████▊    | 694/1200 [01:58<01:24,  5.98review/s]\u001b[A"
          ]
        },
        {
          "output_type": "stream",
          "name": "stdout",
          "text": [
            "Sleeping for 1.54 seconds before next request...\n"
          ]
        },
        {
          "output_type": "stream",
          "name": "stderr",
          "text": [
            "\n",
            "Scraping Progress:  59%|█████▉    | 709/1200 [02:00<01:21,  6.04review/s]\u001b[A"
          ]
        },
        {
          "output_type": "stream",
          "name": "stdout",
          "text": [
            "Sleeping for 1.97 seconds before next request...\n"
          ]
        },
        {
          "output_type": "stream",
          "name": "stderr",
          "text": [
            "\n",
            "Scraping Progress:  60%|██████    | 724/1200 [02:03<01:22,  5.80review/s]\u001b[A"
          ]
        },
        {
          "output_type": "stream",
          "name": "stdout",
          "text": [
            "Sleeping for 1.35 seconds before next request...\n"
          ]
        },
        {
          "output_type": "stream",
          "name": "stderr",
          "text": [
            "\n",
            "Scraping Progress:  62%|██████▏   | 739/1200 [02:05<01:16,  6.06review/s]\u001b[A"
          ]
        },
        {
          "output_type": "stream",
          "name": "stdout",
          "text": [
            "Sleeping for 1.81 seconds before next request...\n"
          ]
        },
        {
          "output_type": "stream",
          "name": "stderr",
          "text": [
            "\n",
            "Scraping Progress:  63%|██████▎   | 754/1200 [02:08<01:15,  5.94review/s]\u001b[A"
          ]
        },
        {
          "output_type": "stream",
          "name": "stdout",
          "text": [
            "Sleeping for 1.07 seconds before next request...\n"
          ]
        },
        {
          "output_type": "stream",
          "name": "stderr",
          "text": [
            "\n",
            "Scraping Progress:  64%|██████▍   | 769/1200 [02:10<01:07,  6.40review/s]\u001b[A"
          ]
        },
        {
          "output_type": "stream",
          "name": "stdout",
          "text": [
            "Sleeping for 1.73 seconds before next request...\n"
          ]
        },
        {
          "output_type": "stream",
          "name": "stderr",
          "text": [
            "\n",
            "Scraping Progress:  65%|██████▌   | 784/1200 [02:12<01:08,  6.09review/s]\u001b[A"
          ]
        },
        {
          "output_type": "stream",
          "name": "stdout",
          "text": [
            "Sleeping for 1.34 seconds before next request...\n"
          ]
        },
        {
          "output_type": "stream",
          "name": "stderr",
          "text": [
            "\n",
            "Scraping Progress:  67%|██████▋   | 799/1200 [02:15<01:05,  6.16review/s]\u001b[A"
          ]
        },
        {
          "output_type": "stream",
          "name": "stdout",
          "text": [
            "Sleeping for 1.52 seconds before next request...\n",
            "\n",
            "[+] Scraping reviews for Apple...\n"
          ]
        },
        {
          "output_type": "stream",
          "name": "stderr",
          "text": [
            "\n",
            "Scraping Progress:  67%|██████▋   | 801/1200 [02:18<01:31,  4.35review/s]\u001b[A"
          ]
        },
        {
          "output_type": "stream",
          "name": "stdout",
          "text": [
            "Sleeping for 1.87 seconds before next request...\n"
          ]
        },
        {
          "output_type": "stream",
          "name": "stderr",
          "text": [
            "\n",
            "Scraping Progress:  68%|██████▊   | 817/1200 [02:21<01:23,  4.59review/s]\u001b[A"
          ]
        },
        {
          "output_type": "stream",
          "name": "stdout",
          "text": [
            "Sleeping for 1.27 seconds before next request...\n"
          ]
        },
        {
          "output_type": "stream",
          "name": "stderr",
          "text": [
            "\n",
            "Scraping Progress:  69%|██████▉   | 833/1200 [02:23<01:13,  5.02review/s]\u001b[A"
          ]
        },
        {
          "output_type": "stream",
          "name": "stdout",
          "text": [
            "Sleeping for 1.97 seconds before next request...\n"
          ]
        },
        {
          "output_type": "stream",
          "name": "stderr",
          "text": [
            "\n",
            "Scraping Progress:  71%|███████   | 849/1200 [02:27<01:10,  5.00review/s]\u001b[A"
          ]
        },
        {
          "output_type": "stream",
          "name": "stdout",
          "text": [
            "Sleeping for 1.32 seconds before next request...\n"
          ]
        },
        {
          "output_type": "stream",
          "name": "stderr",
          "text": [
            "\n",
            "Scraping Progress:  72%|███████▏  | 865/1200 [02:29<01:03,  5.30review/s]\u001b[A"
          ]
        },
        {
          "output_type": "stream",
          "name": "stdout",
          "text": [
            "Sleeping for 1.63 seconds before next request...\n"
          ]
        },
        {
          "output_type": "stream",
          "name": "stderr",
          "text": [
            "\n",
            "Scraping Progress:  73%|███████▎  | 881/1200 [02:32<01:00,  5.31review/s]\u001b[A"
          ]
        },
        {
          "output_type": "stream",
          "name": "stdout",
          "text": [
            "Sleeping for 1.55 seconds before next request...\n"
          ]
        },
        {
          "output_type": "stream",
          "name": "stderr",
          "text": [
            "\n",
            "Scraping Progress:  75%|███████▍  | 897/1200 [02:35<00:56,  5.38review/s]\u001b[A"
          ]
        },
        {
          "output_type": "stream",
          "name": "stdout",
          "text": [
            "Sleeping for 1.79 seconds before next request...\n"
          ]
        },
        {
          "output_type": "stream",
          "name": "stderr",
          "text": [
            "\n",
            "Scraping Progress:  76%|███████▌  | 913/1200 [02:38<00:54,  5.26review/s]\u001b[A"
          ]
        },
        {
          "output_type": "stream",
          "name": "stdout",
          "text": [
            "Sleeping for 1.78 seconds before next request...\n"
          ]
        },
        {
          "output_type": "stream",
          "name": "stderr",
          "text": [
            "\n",
            "Scraping Progress:  77%|███████▋  | 929/1200 [02:41<00:51,  5.26review/s]\u001b[A"
          ]
        },
        {
          "output_type": "stream",
          "name": "stdout",
          "text": [
            "Sleeping for 1.98 seconds before next request...\n"
          ]
        },
        {
          "output_type": "stream",
          "name": "stderr",
          "text": [
            "\n",
            "Scraping Progress:  79%|███████▉  | 945/1200 [02:45<00:49,  5.15review/s]\u001b[A"
          ]
        },
        {
          "output_type": "stream",
          "name": "stdout",
          "text": [
            "Sleeping for 1.26 seconds before next request...\n"
          ]
        },
        {
          "output_type": "stream",
          "name": "stderr",
          "text": [
            "\n",
            "Scraping Progress:  80%|████████  | 961/1200 [02:47<00:44,  5.39review/s]\u001b[A"
          ]
        },
        {
          "output_type": "stream",
          "name": "stdout",
          "text": [
            "Sleeping for 1.96 seconds before next request...\n"
          ]
        },
        {
          "output_type": "stream",
          "name": "stderr",
          "text": [
            "\n",
            "Scraping Progress:  81%|████████▏ | 977/1200 [02:51<00:42,  5.22review/s]\u001b[A"
          ]
        },
        {
          "output_type": "stream",
          "name": "stdout",
          "text": [
            "Sleeping for 1.81 seconds before next request...\n"
          ]
        },
        {
          "output_type": "stream",
          "name": "stderr",
          "text": [
            "\n",
            "Scraping Progress:  83%|████████▎ | 993/1200 [02:54<00:39,  5.18review/s]\u001b[A"
          ]
        },
        {
          "output_type": "stream",
          "name": "stdout",
          "text": [
            "Sleeping for 1.70 seconds before next request...\n"
          ]
        },
        {
          "output_type": "stream",
          "name": "stderr",
          "text": [
            "\n",
            "Scraping Progress:  84%|████████▍ | 1009/1200 [02:57<00:36,  5.18review/s]\u001b[A"
          ]
        },
        {
          "output_type": "stream",
          "name": "stdout",
          "text": [
            "Sleeping for 1.83 seconds before next request...\n"
          ]
        },
        {
          "output_type": "stream",
          "name": "stderr",
          "text": [
            "\n",
            "Scraping Progress:  85%|████████▌ | 1025/1200 [03:00<00:34,  5.12review/s]\u001b[A"
          ]
        },
        {
          "output_type": "stream",
          "name": "stdout",
          "text": [
            "Sleeping for 1.54 seconds before next request...\n"
          ]
        },
        {
          "output_type": "stream",
          "name": "stderr",
          "text": [
            "\n",
            "Scraping Progress:  87%|████████▋ | 1041/1200 [03:03<00:30,  5.16review/s]\u001b[A"
          ]
        },
        {
          "output_type": "stream",
          "name": "stdout",
          "text": [
            "Sleeping for 1.47 seconds before next request...\n"
          ]
        },
        {
          "output_type": "stream",
          "name": "stderr",
          "text": [
            "\n",
            "Scraping Progress:  88%|████████▊ | 1057/1200 [03:06<00:27,  5.26review/s]\u001b[A"
          ]
        },
        {
          "output_type": "stream",
          "name": "stdout",
          "text": [
            "Sleeping for 1.86 seconds before next request...\n"
          ]
        },
        {
          "output_type": "stream",
          "name": "stderr",
          "text": [
            "\n",
            "Scraping Progress:  89%|████████▉ | 1073/1200 [03:09<00:24,  5.20review/s]\u001b[A"
          ]
        },
        {
          "output_type": "stream",
          "name": "stdout",
          "text": [
            "Sleeping for 1.61 seconds before next request...\n"
          ]
        },
        {
          "output_type": "stream",
          "name": "stderr",
          "text": [
            "\n",
            "Scraping Progress:  91%|█████████ | 1089/1200 [03:12<00:21,  5.27review/s]\u001b[A"
          ]
        },
        {
          "output_type": "stream",
          "name": "stdout",
          "text": [
            "Sleeping for 1.76 seconds before next request...\n"
          ]
        },
        {
          "output_type": "stream",
          "name": "stderr",
          "text": [
            "\n",
            "Scraping Progress:  92%|█████████▏| 1105/1200 [03:15<00:18,  5.18review/s]\u001b[A"
          ]
        },
        {
          "output_type": "stream",
          "name": "stdout",
          "text": [
            "Sleeping for 1.93 seconds before next request...\n"
          ]
        },
        {
          "output_type": "stream",
          "name": "stderr",
          "text": [
            "\n",
            "Scraping Progress:  93%|█████████▎| 1121/1200 [03:19<00:15,  5.02review/s]\u001b[A"
          ]
        },
        {
          "output_type": "stream",
          "name": "stdout",
          "text": [
            "Sleeping for 1.95 seconds before next request...\n"
          ]
        },
        {
          "output_type": "stream",
          "name": "stderr",
          "text": [
            "\n",
            "Scraping Progress:  95%|█████████▍| 1137/1200 [03:22<00:12,  4.96review/s]\u001b[A"
          ]
        },
        {
          "output_type": "stream",
          "name": "stdout",
          "text": [
            "Sleeping for 1.75 seconds before next request...\n"
          ]
        },
        {
          "output_type": "stream",
          "name": "stderr",
          "text": [
            "\n",
            "Scraping Progress:  96%|█████████▌| 1153/1200 [03:25<00:09,  4.98review/s]\u001b[A"
          ]
        },
        {
          "output_type": "stream",
          "name": "stdout",
          "text": [
            "Sleeping for 1.74 seconds before next request...\n"
          ]
        },
        {
          "output_type": "stream",
          "name": "stderr",
          "text": [
            "\n",
            "Scraping Progress:  97%|█████████▋| 1169/1200 [03:28<00:06,  5.09review/s]\u001b[A"
          ]
        },
        {
          "output_type": "stream",
          "name": "stdout",
          "text": [
            "Sleeping for 1.07 seconds before next request...\n"
          ]
        },
        {
          "output_type": "stream",
          "name": "stderr",
          "text": [
            "\n",
            "Scraping Progress:  99%|█████████▉| 1185/1200 [03:31<00:02,  5.33review/s]\u001b[A"
          ]
        },
        {
          "output_type": "stream",
          "name": "stdout",
          "text": [
            "Sleeping for 1.72 seconds before next request...\n"
          ]
        },
        {
          "output_type": "stream",
          "name": "stderr",
          "text": [
            "\rScraping Progress: 100%|██████████| 1200/1200 [03:33<00:00,  5.63review/s]"
          ]
        },
        {
          "output_type": "stream",
          "name": "stdout",
          "text": [
            "\n",
            "✅ Scraping complete! Data saved to 'careerbliss_reviews_fixed.csv'\n"
          ]
        },
        {
          "output_type": "stream",
          "name": "stderr",
          "text": [
            "\n"
          ]
        }
      ]
    },
    {
      "cell_type": "markdown",
      "source": [
        "## 날짜, 위치 포함"
      ],
      "metadata": {
        "id": "wMPJFnD70dSe"
      }
    },
    {
      "cell_type": "code",
      "source": [
        "import requests\n",
        "from bs4 import BeautifulSoup\n",
        "import pandas as pd\n",
        "import time\n",
        "import random\n",
        "from tqdm import tqdm\n",
        "\n",
        "# 크롤링할 기업 리스트\n",
        "companies = [\n",
        "    \"Tesla\", \"Nvidia\", \"Apple\"\n",
        "]\n",
        "\n",
        "# CareerBliss 리뷰 URL\n",
        "BASE_URL = \"https://www.careerbliss.com/{}/reviews/?page={}\"\n",
        "\n",
        "# User-Agent 설정\n",
        "HEADERS = {\n",
        "    \"User-Agent\": \"Mozilla/5.0 (Macintosh; Intel Mac OS X 10_15_7) AppleWebKit/537.36 (KHTML, like Gecko) Chrome/110.0.0.0 Safari/537.36\"\n",
        "}\n",
        "\n",
        "# 데이터 저장 리스트\n",
        "data = []\n",
        "\n",
        "# 총 작업량 설정\n",
        "total_reviews = len(companies) * 400\n",
        "progress_bar = tqdm(total=total_reviews, desc=\"Scraping Progress\", unit=\"review\")\n",
        "\n",
        "# 크롤링 시작\n",
        "for company in companies:\n",
        "    print(f\"\\n[+] Scraping reviews for {company}...\")\n",
        "\n",
        "    company_reviews = []\n",
        "    page = 1\n",
        "\n",
        "    while len(company_reviews) < 400:\n",
        "        url = BASE_URL.format(company.lower(), page)\n",
        "\n",
        "        try:\n",
        "            response = requests.get(url, headers=HEADERS, timeout=10)\n",
        "            response.raise_for_status()\n",
        "        except requests.exceptions.RequestException as e:\n",
        "            print(f\"[-] Request failed for {company} on page {page}: {e}\")\n",
        "            break\n",
        "\n",
        "        soup = BeautifulSoup(response.text, \"html.parser\")\n",
        "        reviews = soup.find_all(\"div\", class_=\"company-reviews\")\n",
        "\n",
        "        if not reviews:\n",
        "            print(f\"[-] No more reviews found for {company} on page {page}\")\n",
        "            break\n",
        "\n",
        "        for review in reviews:\n",
        "            if len(company_reviews) >= 400:\n",
        "                break\n",
        "\n",
        "            # 직책\n",
        "            job_title = review.find(\"a\", class_=\"header5\")\n",
        "            job_title = job_title.text.strip() if job_title else \"Unknown\"\n",
        "\n",
        "            # 전체 평점\n",
        "            rating_stars = review.find(\"div\", class_=\"rating large-star\")\n",
        "            if rating_stars:\n",
        "                full_stars = len(rating_stars.find_all(\"span\", class_=\"full\"))\n",
        "                half_stars = len(rating_stars.find_all(\"span\", class_=\"half\"))\n",
        "                overall_rating = full_stars + (0.5 * half_stars)\n",
        "            else:\n",
        "                overall_rating = \"Unknown\"\n",
        "\n",
        "            # 세부 항목\n",
        "            rating_details = {}\n",
        "            categories = review.find_all(\"span\", class_=\"span3 header9 text-right category\")\n",
        "            scores = review.find_all(\"span\", class_=\"span1 header8 value\")\n",
        "\n",
        "            for cat, score in zip(categories, scores):\n",
        "                category_name = cat.text.strip()\n",
        "                rating_score = score.text.strip()\n",
        "                rating_details[category_name] = rating_score\n",
        "\n",
        "            # 날짜 및 위치 정보\n",
        "            location_tag = review.find(\"span\", class_=\"header13 spotlight-date\")\n",
        "            if location_tag:\n",
        "                location_text = location_tag.get_text(strip=True)\n",
        "\n",
        "                if \"Posted\" in location_text and \"in\" in location_text:\n",
        "                    parts = location_text.replace(\"Posted\", \"\").strip().split(\"in\")\n",
        "                    posted_date = parts[0].strip()\n",
        "                    location = parts[1].strip()\n",
        "                elif \"in\" in location_text:\n",
        "                    posted_date = \"Unknown\"\n",
        "                    location = location_text.split(\"in\")[-1].strip()\n",
        "                else:\n",
        "                    posted_date = \"Unknown\"\n",
        "                    location = \"Unknown\"\n",
        "            else:\n",
        "                posted_date = \"Unknown\"\n",
        "                location = \"Unknown\"\n",
        "\n",
        "            # 데이터 추가\n",
        "            company_reviews.append({\n",
        "                \"Company\": company,\n",
        "                \"Job Title\": job_title,\n",
        "                \"Overall Rating\": overall_rating,\n",
        "                \"Posted Date\": posted_date,\n",
        "                \"Location\": location,\n",
        "                **rating_details\n",
        "            })\n",
        "\n",
        "            progress_bar.update(1)\n",
        "\n",
        "        page += 1\n",
        "        sleep_time = random.uniform(1, 2)\n",
        "        print(f\"Sleeping for {sleep_time:.2f} seconds...\")\n",
        "        time.sleep(sleep_time)\n",
        "\n",
        "    data.extend(company_reviews)\n",
        "\n",
        "# 진행률 바 종료\n",
        "progress_bar.close()\n",
        "\n",
        "# DataFrame 생성 및 저장\n",
        "df = pd.DataFrame(data)\n",
        "df.to_csv(\"careerbliss_location.csv\", index=False, encoding=\"utf-8-sig\")\n",
        "print(\"\\n✅ Scraping complete! Data saved to 'careerbliss_reviews_with_location.csv'\")\n"
      ],
      "metadata": {
        "colab": {
          "base_uri": "https://localhost:8080/"
        },
        "id": "CsDI-Xqg0fDF",
        "outputId": "ecee89fa-0a71-457a-8728-bd75ee0bc46f"
      },
      "execution_count": null,
      "outputs": [
        {
          "output_type": "stream",
          "name": "stderr",
          "text": [
            "\rScraping Progress:   0%|          | 0/1200 [00:00<?, ?review/s]"
          ]
        },
        {
          "output_type": "stream",
          "name": "stdout",
          "text": [
            "\n",
            "[+] Scraping reviews for Tesla...\n"
          ]
        },
        {
          "output_type": "stream",
          "name": "stderr",
          "text": [
            "\rScraping Progress:   0%|          | 1/1200 [00:01<32:27,  1.62s/review]"
          ]
        },
        {
          "output_type": "stream",
          "name": "stdout",
          "text": [
            "Sleeping for 1.36 seconds...\n"
          ]
        },
        {
          "output_type": "stream",
          "name": "stderr",
          "text": [
            "\rScraping Progress:   1%|▏         | 17/1200 [00:04<04:19,  4.56review/s]"
          ]
        },
        {
          "output_type": "stream",
          "name": "stdout",
          "text": [
            "Sleeping for 1.38 seconds...\n"
          ]
        },
        {
          "output_type": "stream",
          "name": "stderr",
          "text": [
            "\rScraping Progress:   3%|▎         | 33/1200 [00:06<03:30,  5.54review/s]"
          ]
        },
        {
          "output_type": "stream",
          "name": "stdout",
          "text": [
            "Sleeping for 1.98 seconds...\n"
          ]
        },
        {
          "output_type": "stream",
          "name": "stderr",
          "text": [
            "\rScraping Progress:   4%|▍         | 49/1200 [00:09<03:31,  5.43review/s]"
          ]
        },
        {
          "output_type": "stream",
          "name": "stdout",
          "text": [
            "Sleeping for 1.85 seconds...\n"
          ]
        },
        {
          "output_type": "stream",
          "name": "stderr",
          "text": [
            "\rScraping Progress:   5%|▌         | 65/1200 [00:12<03:32,  5.35review/s]"
          ]
        },
        {
          "output_type": "stream",
          "name": "stdout",
          "text": [
            "Sleeping for 1.10 seconds...\n"
          ]
        },
        {
          "output_type": "stream",
          "name": "stderr",
          "text": [
            "\rScraping Progress:   7%|▋         | 81/1200 [00:14<03:08,  5.95review/s]"
          ]
        },
        {
          "output_type": "stream",
          "name": "stdout",
          "text": [
            "Sleeping for 1.40 seconds...\n"
          ]
        },
        {
          "output_type": "stream",
          "name": "stderr",
          "text": [
            "\rScraping Progress:   8%|▊         | 97/1200 [00:17<03:03,  6.01review/s]"
          ]
        },
        {
          "output_type": "stream",
          "name": "stdout",
          "text": [
            "Sleeping for 1.69 seconds...\n"
          ]
        },
        {
          "output_type": "stream",
          "name": "stderr",
          "text": [
            "\rScraping Progress:   9%|▉         | 113/1200 [00:20<03:06,  5.84review/s]"
          ]
        },
        {
          "output_type": "stream",
          "name": "stdout",
          "text": [
            "Sleeping for 1.07 seconds...\n"
          ]
        },
        {
          "output_type": "stream",
          "name": "stderr",
          "text": [
            "\rScraping Progress:  11%|█         | 129/1200 [00:22<02:50,  6.30review/s]"
          ]
        },
        {
          "output_type": "stream",
          "name": "stdout",
          "text": [
            "Sleeping for 1.79 seconds...\n"
          ]
        },
        {
          "output_type": "stream",
          "name": "stderr",
          "text": [
            "\rScraping Progress:  12%|█▏        | 138/1200 [00:25<03:36,  4.92review/s]"
          ]
        },
        {
          "output_type": "stream",
          "name": "stdout",
          "text": [
            "Sleeping for 1.35 seconds...\n"
          ]
        },
        {
          "output_type": "stream",
          "name": "stderr",
          "text": [
            "\rScraping Progress:  13%|█▎        | 154/1200 [00:29<03:35,  4.86review/s]"
          ]
        },
        {
          "output_type": "stream",
          "name": "stdout",
          "text": [
            "Sleeping for 1.87 seconds...\n"
          ]
        },
        {
          "output_type": "stream",
          "name": "stderr",
          "text": [
            "\rScraping Progress:  14%|█▍        | 170/1200 [00:32<03:39,  4.70review/s]"
          ]
        },
        {
          "output_type": "stream",
          "name": "stdout",
          "text": [
            "Sleeping for 1.96 seconds...\n"
          ]
        },
        {
          "output_type": "stream",
          "name": "stderr",
          "text": [
            "\rScraping Progress:  16%|█▌        | 186/1200 [00:36<03:34,  4.73review/s]"
          ]
        },
        {
          "output_type": "stream",
          "name": "stdout",
          "text": [
            "Sleeping for 1.10 seconds...\n"
          ]
        },
        {
          "output_type": "stream",
          "name": "stderr",
          "text": [
            "\rScraping Progress:  17%|█▋        | 202/1200 [00:38<03:12,  5.18review/s]"
          ]
        },
        {
          "output_type": "stream",
          "name": "stdout",
          "text": [
            "Sleeping for 1.95 seconds...\n"
          ]
        },
        {
          "output_type": "stream",
          "name": "stderr",
          "text": [
            "\rScraping Progress:  18%|█▊        | 218/1200 [00:42<03:18,  4.94review/s]"
          ]
        },
        {
          "output_type": "stream",
          "name": "stdout",
          "text": [
            "Sleeping for 1.33 seconds...\n"
          ]
        },
        {
          "output_type": "stream",
          "name": "stderr",
          "text": [
            "\rScraping Progress:  20%|█▉        | 234/1200 [00:45<03:09,  5.11review/s]"
          ]
        },
        {
          "output_type": "stream",
          "name": "stdout",
          "text": [
            "Sleeping for 1.17 seconds...\n"
          ]
        },
        {
          "output_type": "stream",
          "name": "stderr",
          "text": [
            "\rScraping Progress:  21%|██        | 250/1200 [00:47<02:59,  5.29review/s]"
          ]
        },
        {
          "output_type": "stream",
          "name": "stdout",
          "text": [
            "Sleeping for 1.55 seconds...\n"
          ]
        },
        {
          "output_type": "stream",
          "name": "stderr",
          "text": [
            "\rScraping Progress:  22%|██▏       | 266/1200 [00:51<02:58,  5.22review/s]"
          ]
        },
        {
          "output_type": "stream",
          "name": "stdout",
          "text": [
            "Sleeping for 1.75 seconds...\n"
          ]
        },
        {
          "output_type": "stream",
          "name": "stderr",
          "text": [
            "\rScraping Progress:  24%|██▎       | 282/1200 [00:54<02:58,  5.13review/s]"
          ]
        },
        {
          "output_type": "stream",
          "name": "stdout",
          "text": [
            "Sleeping for 1.90 seconds...\n"
          ]
        },
        {
          "output_type": "stream",
          "name": "stderr",
          "text": [
            "\rScraping Progress:  25%|██▍       | 298/1200 [00:57<02:58,  5.06review/s]"
          ]
        },
        {
          "output_type": "stream",
          "name": "stdout",
          "text": [
            "Sleeping for 1.50 seconds...\n"
          ]
        },
        {
          "output_type": "stream",
          "name": "stderr",
          "text": [
            "\rScraping Progress:  26%|██▌       | 314/1200 [01:00<02:49,  5.22review/s]"
          ]
        },
        {
          "output_type": "stream",
          "name": "stdout",
          "text": [
            "Sleeping for 1.97 seconds...\n"
          ]
        },
        {
          "output_type": "stream",
          "name": "stderr",
          "text": [
            "\rScraping Progress:  28%|██▊       | 330/1200 [01:03<02:54,  4.98review/s]"
          ]
        },
        {
          "output_type": "stream",
          "name": "stdout",
          "text": [
            "Sleeping for 1.86 seconds...\n"
          ]
        },
        {
          "output_type": "stream",
          "name": "stderr",
          "text": [
            "\rScraping Progress:  29%|██▉       | 346/1200 [01:07<02:51,  4.98review/s]"
          ]
        },
        {
          "output_type": "stream",
          "name": "stdout",
          "text": [
            "Sleeping for 1.27 seconds...\n"
          ]
        },
        {
          "output_type": "stream",
          "name": "stderr",
          "text": [
            "\rScraping Progress:  30%|███       | 362/1200 [01:09<02:41,  5.18review/s]"
          ]
        },
        {
          "output_type": "stream",
          "name": "stdout",
          "text": [
            "Sleeping for 1.00 seconds...\n"
          ]
        },
        {
          "output_type": "stream",
          "name": "stderr",
          "text": [
            "\rScraping Progress:  32%|███▏      | 378/1200 [01:12<02:27,  5.57review/s]"
          ]
        },
        {
          "output_type": "stream",
          "name": "stdout",
          "text": [
            "Sleeping for 1.32 seconds...\n"
          ]
        },
        {
          "output_type": "stream",
          "name": "stderr",
          "text": [
            "\rScraping Progress:  33%|███▎      | 394/1200 [01:15<02:25,  5.54review/s]"
          ]
        },
        {
          "output_type": "stream",
          "name": "stdout",
          "text": [
            "Sleeping for 1.79 seconds...\n",
            "\n",
            "[+] Scraping reviews for Nvidia...\n"
          ]
        },
        {
          "output_type": "stream",
          "name": "stderr",
          "text": [
            "\rScraping Progress:  33%|███▎      | 401/1200 [01:18<02:51,  4.65review/s]"
          ]
        },
        {
          "output_type": "stream",
          "name": "stdout",
          "text": [
            "Sleeping for 1.83 seconds...\n"
          ]
        },
        {
          "output_type": "stream",
          "name": "stderr",
          "text": [
            "\rScraping Progress:  35%|███▍      | 416/1200 [01:21<02:44,  4.76review/s]"
          ]
        },
        {
          "output_type": "stream",
          "name": "stdout",
          "text": [
            "Sleeping for 1.02 seconds...\n"
          ]
        },
        {
          "output_type": "stream",
          "name": "stderr",
          "text": [
            "\rScraping Progress:  36%|███▌      | 431/1200 [01:22<02:19,  5.52review/s]"
          ]
        },
        {
          "output_type": "stream",
          "name": "stdout",
          "text": [
            "Sleeping for 1.70 seconds...\n"
          ]
        },
        {
          "output_type": "stream",
          "name": "stderr",
          "text": [
            "\rScraping Progress:  37%|███▋      | 439/1200 [01:25<02:48,  4.51review/s]"
          ]
        },
        {
          "output_type": "stream",
          "name": "stdout",
          "text": [
            "Sleeping for 1.21 seconds...\n"
          ]
        },
        {
          "output_type": "stream",
          "name": "stderr",
          "text": [
            "\rScraping Progress:  38%|███▊      | 454/1200 [01:28<02:31,  4.92review/s]"
          ]
        },
        {
          "output_type": "stream",
          "name": "stdout",
          "text": [
            "Sleeping for 1.90 seconds...\n"
          ]
        },
        {
          "output_type": "stream",
          "name": "stderr",
          "text": [
            "\rScraping Progress:  39%|███▉      | 469/1200 [01:31<02:29,  4.88review/s]"
          ]
        },
        {
          "output_type": "stream",
          "name": "stdout",
          "text": [
            "Sleeping for 1.14 seconds...\n"
          ]
        },
        {
          "output_type": "stream",
          "name": "stderr",
          "text": [
            "\rScraping Progress:  40%|████      | 484/1200 [01:33<02:14,  5.34review/s]"
          ]
        },
        {
          "output_type": "stream",
          "name": "stdout",
          "text": [
            "Sleeping for 1.78 seconds...\n"
          ]
        },
        {
          "output_type": "stream",
          "name": "stderr",
          "text": [
            "\rScraping Progress:  42%|████▏     | 499/1200 [01:36<02:16,  5.13review/s]"
          ]
        },
        {
          "output_type": "stream",
          "name": "stdout",
          "text": [
            "Sleeping for 1.90 seconds...\n"
          ]
        },
        {
          "output_type": "stream",
          "name": "stderr",
          "text": [
            "\rScraping Progress:  43%|████▎     | 514/1200 [01:40<02:17,  5.00review/s]"
          ]
        },
        {
          "output_type": "stream",
          "name": "stdout",
          "text": [
            "Sleeping for 1.01 seconds...\n"
          ]
        },
        {
          "output_type": "stream",
          "name": "stderr",
          "text": [
            "\rScraping Progress:  44%|████▍     | 529/1200 [01:42<02:05,  5.35review/s]"
          ]
        },
        {
          "output_type": "stream",
          "name": "stdout",
          "text": [
            "Sleeping for 1.16 seconds...\n"
          ]
        },
        {
          "output_type": "stream",
          "name": "stderr",
          "text": [
            "\rScraping Progress:  45%|████▌     | 544/1200 [01:45<01:59,  5.50review/s]"
          ]
        },
        {
          "output_type": "stream",
          "name": "stdout",
          "text": [
            "Sleeping for 1.69 seconds...\n"
          ]
        },
        {
          "output_type": "stream",
          "name": "stderr",
          "text": [
            "\rScraping Progress:  47%|████▋     | 559/1200 [01:48<02:01,  5.27review/s]"
          ]
        },
        {
          "output_type": "stream",
          "name": "stdout",
          "text": [
            "Sleeping for 1.88 seconds...\n"
          ]
        },
        {
          "output_type": "stream",
          "name": "stderr",
          "text": [
            "\rScraping Progress:  48%|████▊     | 574/1200 [01:51<02:01,  5.16review/s]"
          ]
        },
        {
          "output_type": "stream",
          "name": "stdout",
          "text": [
            "Sleeping for 1.12 seconds...\n"
          ]
        },
        {
          "output_type": "stream",
          "name": "stderr",
          "text": [
            "\rScraping Progress:  49%|████▉     | 589/1200 [01:53<01:51,  5.48review/s]"
          ]
        },
        {
          "output_type": "stream",
          "name": "stdout",
          "text": [
            "Sleeping for 1.58 seconds...\n"
          ]
        },
        {
          "output_type": "stream",
          "name": "stderr",
          "text": [
            "\rScraping Progress:  50%|█████     | 604/1200 [01:56<01:48,  5.50review/s]"
          ]
        },
        {
          "output_type": "stream",
          "name": "stdout",
          "text": [
            "Sleeping for 1.26 seconds...\n"
          ]
        },
        {
          "output_type": "stream",
          "name": "stderr",
          "text": [
            "\rScraping Progress:  52%|█████▏    | 619/1200 [01:58<01:43,  5.63review/s]"
          ]
        },
        {
          "output_type": "stream",
          "name": "stdout",
          "text": [
            "Sleeping for 1.56 seconds...\n"
          ]
        },
        {
          "output_type": "stream",
          "name": "stderr",
          "text": [
            "\rScraping Progress:  53%|█████▎    | 634/1200 [02:01<01:41,  5.56review/s]"
          ]
        },
        {
          "output_type": "stream",
          "name": "stdout",
          "text": [
            "Sleeping for 1.56 seconds...\n"
          ]
        },
        {
          "output_type": "stream",
          "name": "stderr",
          "text": [
            "\rScraping Progress:  54%|█████▍    | 649/1200 [02:04<01:40,  5.49review/s]"
          ]
        },
        {
          "output_type": "stream",
          "name": "stdout",
          "text": [
            "Sleeping for 2.00 seconds...\n"
          ]
        },
        {
          "output_type": "stream",
          "name": "stderr",
          "text": [
            "\rScraping Progress:  55%|█████▌    | 664/1200 [02:07<01:42,  5.22review/s]"
          ]
        },
        {
          "output_type": "stream",
          "name": "stdout",
          "text": [
            "Sleeping for 1.69 seconds...\n"
          ]
        },
        {
          "output_type": "stream",
          "name": "stderr",
          "text": [
            "\rScraping Progress:  57%|█████▋    | 679/1200 [02:10<01:40,  5.18review/s]"
          ]
        },
        {
          "output_type": "stream",
          "name": "stdout",
          "text": [
            "Sleeping for 1.97 seconds...\n"
          ]
        },
        {
          "output_type": "stream",
          "name": "stderr",
          "text": [
            "\rScraping Progress:  58%|█████▊    | 694/1200 [02:13<01:42,  4.94review/s]"
          ]
        },
        {
          "output_type": "stream",
          "name": "stdout",
          "text": [
            "Sleeping for 1.41 seconds...\n"
          ]
        },
        {
          "output_type": "stream",
          "name": "stderr",
          "text": [
            "\rScraping Progress:  59%|█████▉    | 709/1200 [02:16<01:35,  5.13review/s]"
          ]
        },
        {
          "output_type": "stream",
          "name": "stdout",
          "text": [
            "Sleeping for 1.14 seconds...\n"
          ]
        },
        {
          "output_type": "stream",
          "name": "stderr",
          "text": [
            "\rScraping Progress:  60%|██████    | 724/1200 [02:18<01:26,  5.50review/s]"
          ]
        },
        {
          "output_type": "stream",
          "name": "stdout",
          "text": [
            "Sleeping for 1.21 seconds...\n"
          ]
        },
        {
          "output_type": "stream",
          "name": "stderr",
          "text": [
            "\rScraping Progress:  62%|██████▏   | 739/1200 [02:21<01:24,  5.48review/s]"
          ]
        },
        {
          "output_type": "stream",
          "name": "stdout",
          "text": [
            "Sleeping for 1.49 seconds...\n"
          ]
        },
        {
          "output_type": "stream",
          "name": "stderr",
          "text": [
            "\rScraping Progress:  63%|██████▎   | 754/1200 [02:24<01:20,  5.56review/s]"
          ]
        },
        {
          "output_type": "stream",
          "name": "stdout",
          "text": [
            "Sleeping for 1.90 seconds...\n"
          ]
        },
        {
          "output_type": "stream",
          "name": "stderr",
          "text": [
            "\rScraping Progress:  64%|██████▍   | 769/1200 [02:27<01:20,  5.36review/s]"
          ]
        },
        {
          "output_type": "stream",
          "name": "stdout",
          "text": [
            "Sleeping for 1.82 seconds...\n"
          ]
        },
        {
          "output_type": "stream",
          "name": "stderr",
          "text": [
            "\rScraping Progress:  65%|██████▌   | 784/1200 [02:30<01:21,  5.10review/s]"
          ]
        },
        {
          "output_type": "stream",
          "name": "stdout",
          "text": [
            "Sleeping for 1.66 seconds...\n"
          ]
        },
        {
          "output_type": "stream",
          "name": "stderr",
          "text": [
            "\rScraping Progress:  67%|██████▋   | 799/1200 [02:33<01:17,  5.17review/s]"
          ]
        },
        {
          "output_type": "stream",
          "name": "stdout",
          "text": [
            "Sleeping for 1.70 seconds...\n",
            "\n",
            "[+] Scraping reviews for Apple...\n"
          ]
        },
        {
          "output_type": "stream",
          "name": "stderr",
          "text": [
            "\rScraping Progress:  67%|██████▋   | 801/1200 [02:35<01:41,  3.93review/s]"
          ]
        },
        {
          "output_type": "stream",
          "name": "stdout",
          "text": [
            "Sleeping for 1.80 seconds...\n"
          ]
        },
        {
          "output_type": "stream",
          "name": "stderr",
          "text": [
            "\rScraping Progress:  68%|██████▊   | 817/1200 [02:39<01:33,  4.08review/s]"
          ]
        },
        {
          "output_type": "stream",
          "name": "stdout",
          "text": [
            "Sleeping for 1.70 seconds...\n"
          ]
        },
        {
          "output_type": "stream",
          "name": "stderr",
          "text": [
            "\rScraping Progress:  69%|██████▉   | 833/1200 [02:42<01:20,  4.57review/s]"
          ]
        },
        {
          "output_type": "stream",
          "name": "stdout",
          "text": [
            "Sleeping for 1.59 seconds...\n"
          ]
        },
        {
          "output_type": "stream",
          "name": "stderr",
          "text": [
            "\rScraping Progress:  71%|███████   | 849/1200 [02:45<01:10,  4.96review/s]"
          ]
        },
        {
          "output_type": "stream",
          "name": "stdout",
          "text": [
            "Sleeping for 1.90 seconds...\n"
          ]
        },
        {
          "output_type": "stream",
          "name": "stderr",
          "text": [
            "\rScraping Progress:  72%|███████▏  | 865/1200 [02:47<01:05,  5.13review/s]"
          ]
        },
        {
          "output_type": "stream",
          "name": "stdout",
          "text": [
            "Sleeping for 1.54 seconds...\n"
          ]
        },
        {
          "output_type": "stream",
          "name": "stderr",
          "text": [
            "\rScraping Progress:  73%|███████▎  | 881/1200 [02:50<00:57,  5.53review/s]"
          ]
        },
        {
          "output_type": "stream",
          "name": "stdout",
          "text": [
            "Sleeping for 1.92 seconds...\n"
          ]
        },
        {
          "output_type": "stream",
          "name": "stderr",
          "text": [
            "\rScraping Progress:  75%|███████▍  | 897/1200 [02:53<00:53,  5.62review/s]"
          ]
        },
        {
          "output_type": "stream",
          "name": "stdout",
          "text": [
            "Sleeping for 1.84 seconds...\n"
          ]
        },
        {
          "output_type": "stream",
          "name": "stderr",
          "text": [
            "\rScraping Progress:  76%|███████▌  | 913/1200 [02:55<00:50,  5.71review/s]"
          ]
        },
        {
          "output_type": "stream",
          "name": "stdout",
          "text": [
            "Sleeping for 1.65 seconds...\n"
          ]
        },
        {
          "output_type": "stream",
          "name": "stderr",
          "text": [
            "\rScraping Progress:  77%|███████▋  | 929/1200 [02:58<00:45,  5.91review/s]"
          ]
        },
        {
          "output_type": "stream",
          "name": "stdout",
          "text": [
            "Sleeping for 1.03 seconds...\n"
          ]
        },
        {
          "output_type": "stream",
          "name": "stderr",
          "text": [
            "\rScraping Progress:  79%|███████▉  | 945/1200 [03:00<00:39,  6.43review/s]"
          ]
        },
        {
          "output_type": "stream",
          "name": "stdout",
          "text": [
            "Sleeping for 1.11 seconds...\n"
          ]
        },
        {
          "output_type": "stream",
          "name": "stderr",
          "text": [
            "\rScraping Progress:  80%|████████  | 961/1200 [03:03<00:38,  6.21review/s]"
          ]
        },
        {
          "output_type": "stream",
          "name": "stdout",
          "text": [
            "Sleeping for 1.00 seconds...\n"
          ]
        },
        {
          "output_type": "stream",
          "name": "stderr",
          "text": [
            "\rScraping Progress:  81%|████████▏ | 977/1200 [03:05<00:35,  6.25review/s]"
          ]
        },
        {
          "output_type": "stream",
          "name": "stdout",
          "text": [
            "Sleeping for 1.01 seconds...\n"
          ]
        },
        {
          "output_type": "stream",
          "name": "stderr",
          "text": [
            "\rScraping Progress:  83%|████████▎ | 993/1200 [03:08<00:32,  6.33review/s]"
          ]
        },
        {
          "output_type": "stream",
          "name": "stdout",
          "text": [
            "Sleeping for 1.64 seconds...\n"
          ]
        },
        {
          "output_type": "stream",
          "name": "stderr",
          "text": [
            "\rScraping Progress:  84%|████████▍ | 1009/1200 [03:10<00:30,  6.30review/s]"
          ]
        },
        {
          "output_type": "stream",
          "name": "stdout",
          "text": [
            "Sleeping for 1.59 seconds...\n"
          ]
        },
        {
          "output_type": "stream",
          "name": "stderr",
          "text": [
            "\rScraping Progress:  85%|████████▌ | 1025/1200 [03:13<00:27,  6.29review/s]"
          ]
        },
        {
          "output_type": "stream",
          "name": "stdout",
          "text": [
            "Sleeping for 1.57 seconds...\n"
          ]
        },
        {
          "output_type": "stream",
          "name": "stderr",
          "text": [
            "\rScraping Progress:  87%|████████▋ | 1041/1200 [03:15<00:25,  6.29review/s]"
          ]
        },
        {
          "output_type": "stream",
          "name": "stdout",
          "text": [
            "Sleeping for 1.47 seconds...\n"
          ]
        },
        {
          "output_type": "stream",
          "name": "stderr",
          "text": [
            "\rScraping Progress:  88%|████████▊ | 1057/1200 [03:18<00:22,  6.39review/s]"
          ]
        },
        {
          "output_type": "stream",
          "name": "stdout",
          "text": [
            "Sleeping for 1.03 seconds...\n"
          ]
        },
        {
          "output_type": "stream",
          "name": "stderr",
          "text": [
            "\rScraping Progress:  89%|████████▉ | 1073/1200 [03:20<00:18,  6.80review/s]"
          ]
        },
        {
          "output_type": "stream",
          "name": "stdout",
          "text": [
            "Sleeping for 1.65 seconds...\n"
          ]
        },
        {
          "output_type": "stream",
          "name": "stderr",
          "text": [
            "\rScraping Progress:  91%|█████████ | 1089/1200 [03:22<00:16,  6.56review/s]"
          ]
        },
        {
          "output_type": "stream",
          "name": "stdout",
          "text": [
            "Sleeping for 1.13 seconds...\n"
          ]
        },
        {
          "output_type": "stream",
          "name": "stderr",
          "text": [
            "\rScraping Progress:  92%|█████████▏| 1105/1200 [03:24<00:13,  6.92review/s]"
          ]
        },
        {
          "output_type": "stream",
          "name": "stdout",
          "text": [
            "Sleeping for 1.79 seconds...\n"
          ]
        },
        {
          "output_type": "stream",
          "name": "stderr",
          "text": [
            "\rScraping Progress:  93%|█████████▎| 1121/1200 [03:27<00:11,  6.65review/s]"
          ]
        },
        {
          "output_type": "stream",
          "name": "stdout",
          "text": [
            "Sleeping for 1.58 seconds...\n"
          ]
        },
        {
          "output_type": "stream",
          "name": "stderr",
          "text": [
            "\rScraping Progress:  95%|█████████▍| 1137/1200 [03:29<00:09,  6.65review/s]"
          ]
        },
        {
          "output_type": "stream",
          "name": "stdout",
          "text": [
            "Sleeping for 1.15 seconds...\n"
          ]
        },
        {
          "output_type": "stream",
          "name": "stderr",
          "text": [
            "\rScraping Progress:  96%|█████████▌| 1153/1200 [03:31<00:06,  6.95review/s]"
          ]
        },
        {
          "output_type": "stream",
          "name": "stdout",
          "text": [
            "Sleeping for 1.36 seconds...\n"
          ]
        },
        {
          "output_type": "stream",
          "name": "stderr",
          "text": [
            "\rScraping Progress:  97%|█████████▋| 1169/1200 [03:34<00:04,  6.95review/s]"
          ]
        },
        {
          "output_type": "stream",
          "name": "stdout",
          "text": [
            "Sleeping for 1.66 seconds...\n"
          ]
        },
        {
          "output_type": "stream",
          "name": "stderr",
          "text": [
            "\rScraping Progress:  99%|█████████▉| 1185/1200 [03:37<00:02,  6.45review/s]"
          ]
        },
        {
          "output_type": "stream",
          "name": "stdout",
          "text": [
            "Sleeping for 1.01 seconds...\n"
          ]
        },
        {
          "output_type": "stream",
          "name": "stderr",
          "text": [
            "\rScraping Progress: 100%|██████████| 1200/1200 [03:38<00:00,  5.50review/s]"
          ]
        },
        {
          "output_type": "stream",
          "name": "stdout",
          "text": [
            "\n",
            "✅ Scraping complete! Data saved to 'careerbliss_reviews_with_location.csv'\n"
          ]
        },
        {
          "output_type": "stream",
          "name": "stderr",
          "text": [
            "\n"
          ]
        }
      ]
    },
    {
      "cell_type": "markdown",
      "source": [
        "## 날짜 수집 다시"
      ],
      "metadata": {
        "id": "rPpPDZikxPLn"
      }
    },
    {
      "cell_type": "code",
      "source": [
        "import requests\n",
        "from bs4 import BeautifulSoup\n",
        "import pandas as pd\n",
        "import time\n",
        "import random\n",
        "from tqdm import tqdm\n",
        "\n",
        "# 크롤링할 기업 리스트\n",
        "companies = [\n",
        "    \"Tesla\", \"Nvidia\", \"Apple\"\n",
        "]\n",
        "\n",
        "# CareerBliss 리뷰 URL\n",
        "BASE_URL = \"https://www.careerbliss.com/{}/reviews/?page={}\"\n",
        "\n",
        "# User-Agent 설정\n",
        "HEADERS = {\n",
        "    \"User-Agent\": \"Mozilla/5.0 (Macintosh; Intel Mac OS X 10_15_7) AppleWebKit/537.36 (KHTML, like Gecko) Chrome/110.0.0.0 Safari/537.36\"\n",
        "}\n",
        "\n",
        "# 데이터 저장 리스트\n",
        "data = []\n",
        "\n",
        "# 총 작업량 설정\n",
        "total_reviews = len(companies) * 400\n",
        "progress_bar = tqdm(total=total_reviews, desc=\"Scraping Progress\", unit=\"review\")\n",
        "\n",
        "# 크롤링 시작\n",
        "for company in companies:\n",
        "    print(f\"\\n[+] Scraping reviews for {company}...\")\n",
        "\n",
        "    company_reviews = []\n",
        "    page = 1\n",
        "\n",
        "    while len(company_reviews) < 400:\n",
        "        url = BASE_URL.format(company.lower(), page)\n",
        "\n",
        "        try:\n",
        "            response = requests.get(url, headers=HEADERS, timeout=10)\n",
        "            response.raise_for_status()\n",
        "        except requests.exceptions.RequestException as e:\n",
        "            print(f\"[-] Request failed for {company} on page {page}: {e}\")\n",
        "            break\n",
        "\n",
        "        soup = BeautifulSoup(response.text, \"html.parser\")\n",
        "        reviews = soup.find_all(\"div\", class_=\"company-reviews\")\n",
        "\n",
        "        if not reviews:\n",
        "            print(f\"[-] No more reviews found for {company} on page {page}\")\n",
        "            break\n",
        "\n",
        "        for review in reviews:\n",
        "            if len(company_reviews) >= 400:\n",
        "                break\n",
        "\n",
        "            # 직책\n",
        "            job_title = review.find(\"a\", class_=\"header5\")\n",
        "            job_title = job_title.text.strip() if job_title else \"Unknown\"\n",
        "\n",
        "            # 전체 평점\n",
        "            rating_stars = review.find(\"div\", class_=\"rating large-star\")\n",
        "            if rating_stars:\n",
        "                full_stars = len(rating_stars.find_all(\"span\", class_=\"full\"))\n",
        "                half_stars = len(rating_stars.find_all(\"span\", class_=\"half\"))\n",
        "                overall_rating = full_stars + (0.5 * half_stars)\n",
        "            else:\n",
        "                overall_rating = \"Unknown\"\n",
        "\n",
        "            # 세부 항목\n",
        "            rating_details = {}\n",
        "            categories = review.find_all(\"span\", class_=\"span3 header9 text-right category\")\n",
        "            scores = review.find_all(\"span\", class_=\"span1 header8 value\")\n",
        "\n",
        "            for cat, score in zip(categories, scores):\n",
        "                category_name = cat.text.strip()\n",
        "                rating_score = score.text.strip()\n",
        "                rating_details[category_name] = rating_score\n",
        "\n",
        "            # 날짜 추출 (location은 삭제)\n",
        "            date_tag = review.select_one(\"span.age span.ng-binding\")\n",
        "            posted_date = date_tag.text.strip() if date_tag else \"Unknown\"\n",
        "\n",
        "            # 데이터 추가\n",
        "            company_reviews.append({\n",
        "                \"Company\": company,\n",
        "                \"Job Title\": job_title,\n",
        "                \"Overall Rating\": overall_rating,\n",
        "                \"Posted Date\": posted_date,\n",
        "                **rating_details  # rating_details 안에 세부 항목들 추가\n",
        "            })\n",
        "\n",
        "            progress_bar.update(1)\n",
        "\n",
        "        page += 1\n",
        "        sleep_time = random.uniform(1, 2)\n",
        "        print(f\"Sleeping for {sleep_time:.2f} seconds...\")\n",
        "        time.sleep(sleep_time)\n",
        "\n",
        "    data.extend(company_reviews)\n",
        "\n",
        "# 진행률 바 종료\n",
        "progress_bar.close()\n",
        "\n",
        "# DataFrame 생성 및 저장\n",
        "df = pd.DataFrame(data)\n",
        "df.to_csv(\"careerbliss_reviews.csv\", index=False, encoding=\"utf-8-sig\")\n",
        "print(\"\\n✅ Scraping complete! Data saved to 'careerbliss_reviews.csv'\")\n"
      ],
      "metadata": {
        "id": "pDbiW6r54LnL",
        "colab": {
          "base_uri": "https://localhost:8080/"
        },
        "outputId": "0b480792-6782-4f92-c970-84db6348cda7"
      },
      "execution_count": null,
      "outputs": [
        {
          "output_type": "stream",
          "name": "stderr",
          "text": [
            "\rScraping Progress:   0%|          | 0/1200 [00:00<?, ?review/s]"
          ]
        },
        {
          "output_type": "stream",
          "name": "stdout",
          "text": [
            "\n",
            "[+] Scraping reviews for Tesla...\n"
          ]
        },
        {
          "output_type": "stream",
          "name": "stderr",
          "text": [
            "\rScraping Progress:   0%|          | 1/1200 [00:02<41:04,  2.06s/review]"
          ]
        },
        {
          "output_type": "stream",
          "name": "stdout",
          "text": [
            "Sleeping for 1.65 seconds...\n"
          ]
        },
        {
          "output_type": "stream",
          "name": "stderr",
          "text": [
            "\rScraping Progress:   1%|▏         | 17/1200 [00:05<05:46,  3.42review/s]"
          ]
        },
        {
          "output_type": "stream",
          "name": "stdout",
          "text": [
            "Sleeping for 1.42 seconds...\n"
          ]
        },
        {
          "output_type": "stream",
          "name": "stderr",
          "text": [
            "\rScraping Progress:   3%|▎         | 33/1200 [00:08<04:35,  4.23review/s]"
          ]
        },
        {
          "output_type": "stream",
          "name": "stdout",
          "text": [
            "Sleeping for 1.53 seconds...\n"
          ]
        },
        {
          "output_type": "stream",
          "name": "stderr",
          "text": [
            "\rScraping Progress:   4%|▍         | 49/1200 [00:11<04:12,  4.56review/s]"
          ]
        },
        {
          "output_type": "stream",
          "name": "stdout",
          "text": [
            "Sleeping for 1.66 seconds...\n"
          ]
        },
        {
          "output_type": "stream",
          "name": "stderr",
          "text": [
            "\rScraping Progress:   5%|▌         | 65/1200 [00:14<03:59,  4.74review/s]"
          ]
        },
        {
          "output_type": "stream",
          "name": "stdout",
          "text": [
            "Sleeping for 1.07 seconds...\n"
          ]
        },
        {
          "output_type": "stream",
          "name": "stderr",
          "text": [
            "\rScraping Progress:   7%|▋         | 81/1200 [00:17<03:41,  5.05review/s]"
          ]
        },
        {
          "output_type": "stream",
          "name": "stdout",
          "text": [
            "Sleeping for 1.39 seconds...\n"
          ]
        },
        {
          "output_type": "stream",
          "name": "stderr",
          "text": [
            "\rScraping Progress:   8%|▊         | 97/1200 [00:21<03:49,  4.82review/s]"
          ]
        },
        {
          "output_type": "stream",
          "name": "stdout",
          "text": [
            "Sleeping for 1.90 seconds...\n"
          ]
        },
        {
          "output_type": "stream",
          "name": "stderr",
          "text": [
            "\rScraping Progress:   9%|▉         | 113/1200 [00:24<03:51,  4.69review/s]"
          ]
        },
        {
          "output_type": "stream",
          "name": "stdout",
          "text": [
            "Sleeping for 1.31 seconds...\n"
          ]
        },
        {
          "output_type": "stream",
          "name": "stderr",
          "text": [
            "\rScraping Progress:  11%|█         | 129/1200 [00:27<03:34,  4.99review/s]"
          ]
        },
        {
          "output_type": "stream",
          "name": "stdout",
          "text": [
            "Sleeping for 1.31 seconds...\n"
          ]
        },
        {
          "output_type": "stream",
          "name": "stderr",
          "text": [
            "\rScraping Progress:  12%|█▏        | 138/1200 [00:30<04:03,  4.36review/s]"
          ]
        },
        {
          "output_type": "stream",
          "name": "stdout",
          "text": [
            "Sleeping for 1.60 seconds...\n"
          ]
        },
        {
          "output_type": "stream",
          "name": "stderr",
          "text": [
            "\rScraping Progress:  13%|█▎        | 154/1200 [00:33<03:44,  4.65review/s]"
          ]
        },
        {
          "output_type": "stream",
          "name": "stdout",
          "text": [
            "Sleeping for 1.56 seconds...\n"
          ]
        },
        {
          "output_type": "stream",
          "name": "stderr",
          "text": [
            "\rScraping Progress:  14%|█▍        | 170/1200 [00:36<03:30,  4.90review/s]"
          ]
        },
        {
          "output_type": "stream",
          "name": "stdout",
          "text": [
            "Sleeping for 1.70 seconds...\n"
          ]
        },
        {
          "output_type": "stream",
          "name": "stderr",
          "text": [
            "\rScraping Progress:  16%|█▌        | 186/1200 [00:40<03:38,  4.63review/s]"
          ]
        },
        {
          "output_type": "stream",
          "name": "stdout",
          "text": [
            "Sleeping for 1.60 seconds...\n"
          ]
        },
        {
          "output_type": "stream",
          "name": "stderr",
          "text": [
            "\rScraping Progress:  17%|█▋        | 202/1200 [00:43<03:28,  4.78review/s]"
          ]
        },
        {
          "output_type": "stream",
          "name": "stdout",
          "text": [
            "Sleeping for 1.59 seconds...\n"
          ]
        },
        {
          "output_type": "stream",
          "name": "stderr",
          "text": [
            "\rScraping Progress:  18%|█▊        | 218/1200 [00:47<03:24,  4.80review/s]"
          ]
        },
        {
          "output_type": "stream",
          "name": "stdout",
          "text": [
            "Sleeping for 1.79 seconds...\n"
          ]
        },
        {
          "output_type": "stream",
          "name": "stderr",
          "text": [
            "\rScraping Progress:  20%|█▉        | 234/1200 [00:50<03:17,  4.89review/s]"
          ]
        },
        {
          "output_type": "stream",
          "name": "stdout",
          "text": [
            "Sleeping for 1.86 seconds...\n"
          ]
        },
        {
          "output_type": "stream",
          "name": "stderr",
          "text": [
            "\rScraping Progress:  21%|██        | 250/1200 [00:53<03:16,  4.84review/s]"
          ]
        },
        {
          "output_type": "stream",
          "name": "stdout",
          "text": [
            "Sleeping for 1.35 seconds...\n"
          ]
        },
        {
          "output_type": "stream",
          "name": "stderr",
          "text": [
            "\rScraping Progress:  22%|██▏       | 266/1200 [00:56<03:02,  5.11review/s]"
          ]
        },
        {
          "output_type": "stream",
          "name": "stdout",
          "text": [
            "Sleeping for 1.33 seconds...\n"
          ]
        },
        {
          "output_type": "stream",
          "name": "stderr",
          "text": [
            "\rScraping Progress:  24%|██▎       | 282/1200 [00:59<02:55,  5.24review/s]"
          ]
        },
        {
          "output_type": "stream",
          "name": "stdout",
          "text": [
            "Sleeping for 1.46 seconds...\n"
          ]
        },
        {
          "output_type": "stream",
          "name": "stderr",
          "text": [
            "\rScraping Progress:  25%|██▍       | 298/1200 [01:01<02:48,  5.36review/s]"
          ]
        },
        {
          "output_type": "stream",
          "name": "stdout",
          "text": [
            "Sleeping for 1.51 seconds...\n"
          ]
        },
        {
          "output_type": "stream",
          "name": "stderr",
          "text": [
            "\rScraping Progress:  26%|██▌       | 314/1200 [01:05<02:46,  5.33review/s]"
          ]
        },
        {
          "output_type": "stream",
          "name": "stdout",
          "text": [
            "Sleeping for 1.40 seconds...\n"
          ]
        },
        {
          "output_type": "stream",
          "name": "stderr",
          "text": [
            "\rScraping Progress:  28%|██▊       | 330/1200 [01:07<02:38,  5.48review/s]"
          ]
        },
        {
          "output_type": "stream",
          "name": "stdout",
          "text": [
            "Sleeping for 1.04 seconds...\n"
          ]
        },
        {
          "output_type": "stream",
          "name": "stderr",
          "text": [
            "\rScraping Progress:  29%|██▉       | 346/1200 [01:10<02:32,  5.61review/s]"
          ]
        },
        {
          "output_type": "stream",
          "name": "stdout",
          "text": [
            "Sleeping for 1.07 seconds...\n"
          ]
        },
        {
          "output_type": "stream",
          "name": "stderr",
          "text": [
            "\rScraping Progress:  30%|███       | 362/1200 [01:13<02:28,  5.65review/s]"
          ]
        },
        {
          "output_type": "stream",
          "name": "stdout",
          "text": [
            "Sleeping for 1.73 seconds...\n"
          ]
        },
        {
          "output_type": "stream",
          "name": "stderr",
          "text": [
            "\rScraping Progress:  32%|███▏      | 378/1200 [01:16<02:36,  5.25review/s]"
          ]
        },
        {
          "output_type": "stream",
          "name": "stdout",
          "text": [
            "Sleeping for 1.06 seconds...\n"
          ]
        },
        {
          "output_type": "stream",
          "name": "stderr",
          "text": [
            "\rScraping Progress:  33%|███▎      | 394/1200 [01:19<02:26,  5.50review/s]"
          ]
        },
        {
          "output_type": "stream",
          "name": "stdout",
          "text": [
            "Sleeping for 1.12 seconds...\n",
            "\n",
            "[+] Scraping reviews for Nvidia...\n"
          ]
        },
        {
          "output_type": "stream",
          "name": "stderr",
          "text": [
            "\rScraping Progress:  33%|███▎      | 401/1200 [01:21<02:44,  4.85review/s]"
          ]
        },
        {
          "output_type": "stream",
          "name": "stdout",
          "text": [
            "Sleeping for 1.43 seconds...\n"
          ]
        },
        {
          "output_type": "stream",
          "name": "stderr",
          "text": [
            "\rScraping Progress:  35%|███▍      | 416/1200 [01:24<02:33,  5.10review/s]"
          ]
        },
        {
          "output_type": "stream",
          "name": "stdout",
          "text": [
            "Sleeping for 1.42 seconds...\n"
          ]
        },
        {
          "output_type": "stream",
          "name": "stderr",
          "text": [
            "\rScraping Progress:  36%|███▌      | 431/1200 [01:26<02:26,  5.26review/s]"
          ]
        },
        {
          "output_type": "stream",
          "name": "stdout",
          "text": [
            "Sleeping for 1.71 seconds...\n"
          ]
        },
        {
          "output_type": "stream",
          "name": "stderr",
          "text": [
            "\rScraping Progress:  37%|███▋      | 439/1200 [01:30<02:57,  4.30review/s]"
          ]
        },
        {
          "output_type": "stream",
          "name": "stdout",
          "text": [
            "Sleeping for 1.09 seconds...\n"
          ]
        },
        {
          "output_type": "stream",
          "name": "stderr",
          "text": [
            "\rScraping Progress:  38%|███▊      | 454/1200 [01:32<02:33,  4.87review/s]"
          ]
        },
        {
          "output_type": "stream",
          "name": "stdout",
          "text": [
            "Sleeping for 1.87 seconds...\n"
          ]
        },
        {
          "output_type": "stream",
          "name": "stderr",
          "text": [
            "\rScraping Progress:  39%|███▉      | 469/1200 [01:35<02:34,  4.73review/s]"
          ]
        },
        {
          "output_type": "stream",
          "name": "stdout",
          "text": [
            "Sleeping for 1.04 seconds...\n"
          ]
        },
        {
          "output_type": "stream",
          "name": "stderr",
          "text": [
            "\rScraping Progress:  40%|████      | 484/1200 [01:38<02:17,  5.22review/s]"
          ]
        },
        {
          "output_type": "stream",
          "name": "stdout",
          "text": [
            "Sleeping for 1.26 seconds...\n"
          ]
        },
        {
          "output_type": "stream",
          "name": "stderr",
          "text": [
            "\rScraping Progress:  42%|████▏     | 499/1200 [01:40<02:06,  5.56review/s]"
          ]
        },
        {
          "output_type": "stream",
          "name": "stdout",
          "text": [
            "Sleeping for 1.85 seconds...\n"
          ]
        },
        {
          "output_type": "stream",
          "name": "stderr",
          "text": [
            "\rScraping Progress:  43%|████▎     | 514/1200 [01:43<02:06,  5.42review/s]"
          ]
        },
        {
          "output_type": "stream",
          "name": "stdout",
          "text": [
            "Sleeping for 1.86 seconds...\n"
          ]
        },
        {
          "output_type": "stream",
          "name": "stderr",
          "text": [
            "\rScraping Progress:  44%|████▍     | 529/1200 [01:46<02:09,  5.16review/s]"
          ]
        },
        {
          "output_type": "stream",
          "name": "stdout",
          "text": [
            "Sleeping for 1.93 seconds...\n"
          ]
        },
        {
          "output_type": "stream",
          "name": "stderr",
          "text": [
            "\rScraping Progress:  45%|████▌     | 544/1200 [01:49<02:09,  5.05review/s]"
          ]
        },
        {
          "output_type": "stream",
          "name": "stdout",
          "text": [
            "Sleeping for 1.60 seconds...\n"
          ]
        },
        {
          "output_type": "stream",
          "name": "stderr",
          "text": [
            "\rScraping Progress:  47%|████▋     | 559/1200 [01:52<02:04,  5.15review/s]"
          ]
        },
        {
          "output_type": "stream",
          "name": "stdout",
          "text": [
            "Sleeping for 1.39 seconds...\n"
          ]
        },
        {
          "output_type": "stream",
          "name": "stderr",
          "text": [
            "\rScraping Progress:  48%|████▊     | 574/1200 [01:55<01:57,  5.33review/s]"
          ]
        },
        {
          "output_type": "stream",
          "name": "stdout",
          "text": [
            "Sleeping for 1.32 seconds...\n"
          ]
        },
        {
          "output_type": "stream",
          "name": "stderr",
          "text": [
            "\rScraping Progress:  49%|████▉     | 589/1200 [01:57<01:49,  5.57review/s]"
          ]
        },
        {
          "output_type": "stream",
          "name": "stdout",
          "text": [
            "Sleeping for 1.56 seconds...\n"
          ]
        },
        {
          "output_type": "stream",
          "name": "stderr",
          "text": [
            "\rScraping Progress:  50%|█████     | 604/1200 [02:00<01:46,  5.59review/s]"
          ]
        },
        {
          "output_type": "stream",
          "name": "stdout",
          "text": [
            "Sleeping for 1.57 seconds...\n"
          ]
        },
        {
          "output_type": "stream",
          "name": "stderr",
          "text": [
            "\rScraping Progress:  52%|█████▏    | 619/1200 [02:03<01:46,  5.44review/s]"
          ]
        },
        {
          "output_type": "stream",
          "name": "stdout",
          "text": [
            "Sleeping for 1.33 seconds...\n"
          ]
        },
        {
          "output_type": "stream",
          "name": "stderr",
          "text": [
            "\rScraping Progress:  53%|█████▎    | 634/1200 [02:05<01:43,  5.45review/s]"
          ]
        },
        {
          "output_type": "stream",
          "name": "stdout",
          "text": [
            "Sleeping for 1.65 seconds...\n"
          ]
        },
        {
          "output_type": "stream",
          "name": "stderr",
          "text": [
            "\rScraping Progress:  54%|█████▍    | 649/1200 [02:08<01:42,  5.37review/s]"
          ]
        },
        {
          "output_type": "stream",
          "name": "stdout",
          "text": [
            "Sleeping for 1.09 seconds...\n"
          ]
        },
        {
          "output_type": "stream",
          "name": "stderr",
          "text": [
            "\rScraping Progress:  55%|█████▌    | 664/1200 [02:10<01:33,  5.76review/s]"
          ]
        },
        {
          "output_type": "stream",
          "name": "stdout",
          "text": [
            "Sleeping for 1.96 seconds...\n"
          ]
        },
        {
          "output_type": "stream",
          "name": "stderr",
          "text": [
            "\rScraping Progress:  57%|█████▋    | 679/1200 [02:13<01:35,  5.46review/s]"
          ]
        },
        {
          "output_type": "stream",
          "name": "stdout",
          "text": [
            "Sleeping for 1.50 seconds...\n"
          ]
        },
        {
          "output_type": "stream",
          "name": "stderr",
          "text": [
            "\rScraping Progress:  58%|█████▊    | 694/1200 [02:16<01:30,  5.57review/s]"
          ]
        },
        {
          "output_type": "stream",
          "name": "stdout",
          "text": [
            "Sleeping for 1.68 seconds...\n"
          ]
        },
        {
          "output_type": "stream",
          "name": "stderr",
          "text": [
            "\rScraping Progress:  59%|█████▉    | 709/1200 [02:19<01:29,  5.47review/s]"
          ]
        },
        {
          "output_type": "stream",
          "name": "stdout",
          "text": [
            "Sleeping for 1.94 seconds...\n"
          ]
        },
        {
          "output_type": "stream",
          "name": "stderr",
          "text": [
            "\rScraping Progress:  60%|██████    | 724/1200 [02:22<01:34,  5.01review/s]"
          ]
        },
        {
          "output_type": "stream",
          "name": "stdout",
          "text": [
            "Sleeping for 1.04 seconds...\n"
          ]
        },
        {
          "output_type": "stream",
          "name": "stderr",
          "text": [
            "\rScraping Progress:  62%|██████▏   | 739/1200 [02:25<01:25,  5.37review/s]"
          ]
        },
        {
          "output_type": "stream",
          "name": "stdout",
          "text": [
            "Sleeping for 1.97 seconds...\n"
          ]
        },
        {
          "output_type": "stream",
          "name": "stderr",
          "text": [
            "\rScraping Progress:  63%|██████▎   | 754/1200 [02:28<01:25,  5.24review/s]"
          ]
        },
        {
          "output_type": "stream",
          "name": "stdout",
          "text": [
            "Sleeping for 1.38 seconds...\n"
          ]
        },
        {
          "output_type": "stream",
          "name": "stderr",
          "text": [
            "\rScraping Progress:  64%|██████▍   | 769/1200 [02:31<01:21,  5.29review/s]"
          ]
        },
        {
          "output_type": "stream",
          "name": "stdout",
          "text": [
            "Sleeping for 1.04 seconds...\n"
          ]
        },
        {
          "output_type": "stream",
          "name": "stderr",
          "text": [
            "\rScraping Progress:  65%|██████▌   | 784/1200 [02:33<01:13,  5.64review/s]"
          ]
        },
        {
          "output_type": "stream",
          "name": "stdout",
          "text": [
            "Sleeping for 1.31 seconds...\n"
          ]
        },
        {
          "output_type": "stream",
          "name": "stderr",
          "text": [
            "\rScraping Progress:  67%|██████▋   | 799/1200 [02:35<01:09,  5.75review/s]"
          ]
        },
        {
          "output_type": "stream",
          "name": "stdout",
          "text": [
            "Sleeping for 1.69 seconds...\n",
            "\n",
            "[+] Scraping reviews for Apple...\n"
          ]
        },
        {
          "output_type": "stream",
          "name": "stderr",
          "text": [
            "\rScraping Progress:  67%|██████▋   | 801/1200 [02:39<01:40,  3.96review/s]"
          ]
        },
        {
          "output_type": "stream",
          "name": "stdout",
          "text": [
            "Sleeping for 1.51 seconds...\n"
          ]
        },
        {
          "output_type": "stream",
          "name": "stderr",
          "text": [
            "\rScraping Progress:  68%|██████▊   | 817/1200 [02:42<01:26,  4.42review/s]"
          ]
        },
        {
          "output_type": "stream",
          "name": "stdout",
          "text": [
            "Sleeping for 1.33 seconds...\n"
          ]
        },
        {
          "output_type": "stream",
          "name": "stderr",
          "text": [
            "\rScraping Progress:  69%|██████▉   | 833/1200 [02:44<01:17,  4.72review/s]"
          ]
        },
        {
          "output_type": "stream",
          "name": "stdout",
          "text": [
            "Sleeping for 1.64 seconds...\n"
          ]
        },
        {
          "output_type": "stream",
          "name": "stderr",
          "text": [
            "\rScraping Progress:  71%|███████   | 849/1200 [02:48<01:13,  4.76review/s]"
          ]
        },
        {
          "output_type": "stream",
          "name": "stdout",
          "text": [
            "Sleeping for 1.40 seconds...\n"
          ]
        },
        {
          "output_type": "stream",
          "name": "stderr",
          "text": [
            "\rScraping Progress:  72%|███████▏  | 865/1200 [02:51<01:07,  4.98review/s]"
          ]
        },
        {
          "output_type": "stream",
          "name": "stdout",
          "text": [
            "Sleeping for 1.40 seconds...\n"
          ]
        },
        {
          "output_type": "stream",
          "name": "stderr",
          "text": [
            "\rScraping Progress:  73%|███████▎  | 881/1200 [02:54<01:01,  5.18review/s]"
          ]
        },
        {
          "output_type": "stream",
          "name": "stdout",
          "text": [
            "Sleeping for 1.22 seconds...\n"
          ]
        },
        {
          "output_type": "stream",
          "name": "stderr",
          "text": [
            "\rScraping Progress:  75%|███████▍  | 897/1200 [02:56<00:56,  5.35review/s]"
          ]
        },
        {
          "output_type": "stream",
          "name": "stdout",
          "text": [
            "Sleeping for 1.94 seconds...\n"
          ]
        },
        {
          "output_type": "stream",
          "name": "stderr",
          "text": [
            "\rScraping Progress:  76%|███████▌  | 913/1200 [03:00<00:56,  5.10review/s]"
          ]
        },
        {
          "output_type": "stream",
          "name": "stdout",
          "text": [
            "Sleeping for 1.90 seconds...\n"
          ]
        },
        {
          "output_type": "stream",
          "name": "stderr",
          "text": [
            "\rScraping Progress:  77%|███████▋  | 929/1200 [03:03<00:54,  4.95review/s]"
          ]
        },
        {
          "output_type": "stream",
          "name": "stdout",
          "text": [
            "Sleeping for 1.22 seconds...\n"
          ]
        },
        {
          "output_type": "stream",
          "name": "stderr",
          "text": [
            "\rScraping Progress:  79%|███████▉  | 945/1200 [03:06<00:49,  5.18review/s]"
          ]
        },
        {
          "output_type": "stream",
          "name": "stdout",
          "text": [
            "Sleeping for 1.99 seconds...\n"
          ]
        },
        {
          "output_type": "stream",
          "name": "stderr",
          "text": [
            "\rScraping Progress:  80%|████████  | 961/1200 [03:09<00:47,  4.99review/s]"
          ]
        },
        {
          "output_type": "stream",
          "name": "stdout",
          "text": [
            "Sleeping for 1.52 seconds...\n"
          ]
        },
        {
          "output_type": "stream",
          "name": "stderr",
          "text": [
            "\rScraping Progress:  81%|████████▏ | 977/1200 [03:12<00:43,  5.11review/s]"
          ]
        },
        {
          "output_type": "stream",
          "name": "stdout",
          "text": [
            "Sleeping for 1.56 seconds...\n"
          ]
        },
        {
          "output_type": "stream",
          "name": "stderr",
          "text": [
            "\rScraping Progress:  83%|████████▎ | 993/1200 [03:16<00:40,  5.12review/s]"
          ]
        },
        {
          "output_type": "stream",
          "name": "stdout",
          "text": [
            "Sleeping for 1.17 seconds...\n"
          ]
        },
        {
          "output_type": "stream",
          "name": "stderr",
          "text": [
            "\rScraping Progress:  84%|████████▍ | 1009/1200 [03:19<00:37,  5.15review/s]"
          ]
        },
        {
          "output_type": "stream",
          "name": "stdout",
          "text": [
            "Sleeping for 1.19 seconds...\n"
          ]
        },
        {
          "output_type": "stream",
          "name": "stderr",
          "text": [
            "Scraping Progress:  86%|████████▌ | 1032/1200 [03:21<00:27,  6.19review/s]"
          ]
        },
        {
          "output_type": "stream",
          "name": "stdout",
          "text": [
            "Sleeping for 1.09 seconds...\n"
          ]
        },
        {
          "output_type": "stream",
          "name": "stderr",
          "text": [
            "\rScraping Progress:  87%|████████▋ | 1041/1200 [03:24<00:30,  5.30review/s]"
          ]
        },
        {
          "output_type": "stream",
          "name": "stdout",
          "text": [
            "Sleeping for 1.86 seconds...\n"
          ]
        },
        {
          "output_type": "stream",
          "name": "stderr",
          "text": [
            "\rScraping Progress:  88%|████████▊ | 1057/1200 [03:27<00:27,  5.13review/s]"
          ]
        },
        {
          "output_type": "stream",
          "name": "stdout",
          "text": [
            "Sleeping for 1.96 seconds...\n"
          ]
        },
        {
          "output_type": "stream",
          "name": "stderr",
          "text": [
            "\rScraping Progress:  89%|████████▉ | 1073/1200 [03:31<00:25,  4.94review/s]"
          ]
        },
        {
          "output_type": "stream",
          "name": "stdout",
          "text": [
            "Sleeping for 1.64 seconds...\n"
          ]
        },
        {
          "output_type": "stream",
          "name": "stderr",
          "text": [
            "\rScraping Progress:  91%|█████████ | 1089/1200 [03:34<00:22,  5.02review/s]"
          ]
        },
        {
          "output_type": "stream",
          "name": "stdout",
          "text": [
            "Sleeping for 1.51 seconds...\n"
          ]
        },
        {
          "output_type": "stream",
          "name": "stderr",
          "text": [
            "\rScraping Progress:  92%|█████████▏| 1105/1200 [03:37<00:18,  5.18review/s]"
          ]
        },
        {
          "output_type": "stream",
          "name": "stdout",
          "text": [
            "Sleeping for 1.31 seconds...\n"
          ]
        },
        {
          "output_type": "stream",
          "name": "stderr",
          "text": [
            "\rScraping Progress:  93%|█████████▎| 1121/1200 [03:40<00:14,  5.33review/s]"
          ]
        },
        {
          "output_type": "stream",
          "name": "stdout",
          "text": [
            "Sleeping for 1.47 seconds...\n"
          ]
        },
        {
          "output_type": "stream",
          "name": "stderr",
          "text": [
            "\rScraping Progress:  95%|█████████▍| 1137/1200 [03:43<00:11,  5.34review/s]"
          ]
        },
        {
          "output_type": "stream",
          "name": "stdout",
          "text": [
            "Sleeping for 2.00 seconds...\n"
          ]
        },
        {
          "output_type": "stream",
          "name": "stderr",
          "text": [
            "\rScraping Progress:  96%|█████████▌| 1153/1200 [03:46<00:09,  5.08review/s]"
          ]
        },
        {
          "output_type": "stream",
          "name": "stdout",
          "text": [
            "Sleeping for 1.49 seconds...\n"
          ]
        },
        {
          "output_type": "stream",
          "name": "stderr",
          "text": [
            "\rScraping Progress:  97%|█████████▋| 1169/1200 [03:49<00:06,  5.10review/s]"
          ]
        },
        {
          "output_type": "stream",
          "name": "stdout",
          "text": [
            "Sleeping for 1.24 seconds...\n"
          ]
        },
        {
          "output_type": "stream",
          "name": "stderr",
          "text": [
            "\rScraping Progress:  99%|█████████▉| 1185/1200 [03:52<00:02,  5.29review/s]"
          ]
        },
        {
          "output_type": "stream",
          "name": "stdout",
          "text": [
            "Sleeping for 1.50 seconds...\n"
          ]
        },
        {
          "output_type": "stream",
          "name": "stderr",
          "text": [
            "\rScraping Progress: 100%|██████████| 1200/1200 [03:53<00:00,  5.13review/s]"
          ]
        },
        {
          "output_type": "stream",
          "name": "stdout",
          "text": [
            "\n",
            "✅ Scraping complete! Data saved to 'careerbliss_reviews.csv'\n"
          ]
        },
        {
          "output_type": "stream",
          "name": "stderr",
          "text": [
            "\n"
          ]
        }
      ]
    },
    {
      "cell_type": "markdown",
      "source": [
        "## 날짜 다시"
      ],
      "metadata": {
        "id": "dKUYDWr11k42"
      }
    },
    {
      "cell_type": "code",
      "source": [
        "import requests\n",
        "from bs4 import BeautifulSoup\n",
        "import pandas as pd\n",
        "import time\n",
        "import random\n",
        "from tqdm import tqdm\n",
        "\n",
        "# 크롤링할 기업 리스트\n",
        "companies = [\n",
        "    \"Tesla\", \"Nvidia\", \"Apple\"\n",
        "]\n",
        "\n",
        "# CareerBliss 리뷰 URL\n",
        "BASE_URL = \"https://www.careerbliss.com/{}/reviews/?page={}\"\n",
        "\n",
        "# User-Agent 설정\n",
        "HEADERS = {\n",
        "    \"User-Agent\": \"Mozilla/5.0 (Macintosh; Intel Mac OS X 10_15_7) AppleWebKit/537.36 (KHTML, like Gecko) Chrome/110.0.0.0 Safari/537.36\"\n",
        "}\n",
        "\n",
        "# 데이터 저장 리스트\n",
        "data = []\n",
        "\n",
        "# 총 작업량 설정\n",
        "total_reviews = len(companies) * 400\n",
        "progress_bar = tqdm(total=total_reviews, desc=\"Scraping Progress\", unit=\"review\")\n",
        "\n",
        "# 크롤링 시작\n",
        "for company in companies:\n",
        "    print(f\"\\n[+] Scraping reviews for {company}...\")\n",
        "\n",
        "    company_reviews = []\n",
        "    page = 1\n",
        "\n",
        "    while len(company_reviews) < 400:\n",
        "        url = BASE_URL.format(company.lower(), page)\n",
        "\n",
        "        try:\n",
        "            response = requests.get(url, headers=HEADERS, timeout=10)\n",
        "            response.raise_for_status()\n",
        "        except requests.exceptions.RequestException as e:\n",
        "            print(f\"[-] Request failed for {company} on page {page}: {e}\")\n",
        "            break\n",
        "\n",
        "        soup = BeautifulSoup(response.text, \"html.parser\")\n",
        "        reviews = soup.find_all(\"div\", class_=\"company-reviews\")\n",
        "\n",
        "        if not reviews:\n",
        "            print(f\"[-] No more reviews found for {company} on page {page}\")\n",
        "            break\n",
        "\n",
        "        for review in reviews:\n",
        "            if len(company_reviews) >= 400:\n",
        "                break\n",
        "\n",
        "            # 직책\n",
        "            job_title = review.find(\"a\", class_=\"header5\")\n",
        "            job_title = job_title.text.strip() if job_title else \"Unknown\"\n",
        "\n",
        "            # 전체 평점\n",
        "            rating_stars = review.find(\"div\", class_=\"rating large-star\")\n",
        "            if rating_stars:\n",
        "                full_stars = len(rating_stars.find_all(\"span\", class_=\"full\"))\n",
        "                half_stars = len(rating_stars.find_all(\"span\", class_=\"half\"))\n",
        "                overall_rating = full_stars + (0.5 * half_stars)\n",
        "            else:\n",
        "                overall_rating = \"Unknown\"\n",
        "\n",
        "            # 세부 항목\n",
        "            rating_details = {}\n",
        "            categories = review.find_all(\"span\", class_=\"span3 header9 text-right category\")\n",
        "            scores = review.find_all(\"span\", class_=\"span1 header8 value\")\n",
        "\n",
        "            for cat, score in zip(categories, scores):\n",
        "                category_name = cat.text.strip()\n",
        "                rating_score = score.text.strip()\n",
        "                rating_details[category_name] = rating_score\n",
        "\n",
        "            # 위치 추출\n",
        "            location_tag = review.find(\"span\", class_=\"header13\")\n",
        "            location = location_tag.find(\"a\").text.strip() if location_tag and location_tag.find(\"a\") else \"Unknown\"\n",
        "\n",
        "            # 데이터 추가\n",
        "            company_reviews.append({\n",
        "                \"Company\": company,\n",
        "                \"Job Title\": job_title,\n",
        "                \"Overall Rating\": overall_rating,\n",
        "                \"Location\": location,\n",
        "                **rating_details\n",
        "            })\n",
        "\n",
        "            progress_bar.update(1)\n",
        "\n",
        "        page += 1\n",
        "        sleep_time = random.uniform(1, 2)\n",
        "        print(f\"Sleeping for {sleep_time:.2f} seconds...\")\n",
        "        time.sleep(sleep_time)\n",
        "\n",
        "    data.extend(company_reviews)\n",
        "\n",
        "# 진행률 바 종료\n",
        "progress_bar.close()\n",
        "\n",
        "# DataFrame 생성 및 저장\n",
        "df = pd.DataFrame(data)\n",
        "df.to_csv(\"careerbliss_reviews_with_location.csv\", index=False, encoding=\"utf-8-sig\")\n",
        "print(\"\\n✅ Scraping complete! Data saved to 'careerbliss_reviews_with_location.csv'\")\n"
      ],
      "metadata": {
        "colab": {
          "base_uri": "https://localhost:8080/"
        },
        "id": "2DoMj8iMxTOp",
        "outputId": "2daee6a0-252f-4a27-c68d-1899f708719f"
      },
      "execution_count": null,
      "outputs": [
        {
          "output_type": "stream",
          "name": "stderr",
          "text": [
            "\rScraping Progress:   0%|          | 0/1200 [00:00<?, ?review/s]"
          ]
        },
        {
          "output_type": "stream",
          "name": "stdout",
          "text": [
            "\n",
            "[+] Scraping reviews for Tesla...\n"
          ]
        },
        {
          "output_type": "stream",
          "name": "stderr",
          "text": [
            "\rScraping Progress:   0%|          | 1/1200 [00:01<22:32,  1.13s/review]"
          ]
        },
        {
          "output_type": "stream",
          "name": "stdout",
          "text": [
            "Sleeping for 1.35 seconds...\n"
          ]
        },
        {
          "output_type": "stream",
          "name": "stderr",
          "text": [
            "\rScraping Progress:   1%|▏         | 17/1200 [00:03<04:15,  4.64review/s]"
          ]
        },
        {
          "output_type": "stream",
          "name": "stdout",
          "text": [
            "Sleeping for 1.67 seconds...\n"
          ]
        },
        {
          "output_type": "stream",
          "name": "stderr",
          "text": [
            "\rScraping Progress:   3%|▎         | 33/1200 [00:06<03:46,  5.15review/s]"
          ]
        },
        {
          "output_type": "stream",
          "name": "stdout",
          "text": [
            "Sleeping for 1.49 seconds...\n"
          ]
        },
        {
          "output_type": "stream",
          "name": "stderr",
          "text": [
            "\rScraping Progress:   4%|▍         | 49/1200 [00:09<03:40,  5.23review/s]"
          ]
        },
        {
          "output_type": "stream",
          "name": "stdout",
          "text": [
            "Sleeping for 1.96 seconds...\n"
          ]
        },
        {
          "output_type": "stream",
          "name": "stderr",
          "text": [
            "\rScraping Progress:   5%|▌         | 65/1200 [00:12<03:36,  5.24review/s]"
          ]
        },
        {
          "output_type": "stream",
          "name": "stdout",
          "text": [
            "Sleeping for 1.55 seconds...\n"
          ]
        },
        {
          "output_type": "stream",
          "name": "stderr",
          "text": [
            "\rScraping Progress:   7%|▋         | 81/1200 [00:15<03:33,  5.25review/s]"
          ]
        },
        {
          "output_type": "stream",
          "name": "stdout",
          "text": [
            "Sleeping for 1.60 seconds...\n"
          ]
        },
        {
          "output_type": "stream",
          "name": "stderr",
          "text": [
            "\rScraping Progress:   8%|▊         | 97/1200 [00:19<03:33,  5.17review/s]"
          ]
        },
        {
          "output_type": "stream",
          "name": "stdout",
          "text": [
            "Sleeping for 1.14 seconds...\n"
          ]
        },
        {
          "output_type": "stream",
          "name": "stderr",
          "text": [
            "\rScraping Progress:   9%|▉         | 113/1200 [00:21<03:26,  5.27review/s]"
          ]
        },
        {
          "output_type": "stream",
          "name": "stdout",
          "text": [
            "Sleeping for 1.31 seconds...\n"
          ]
        },
        {
          "output_type": "stream",
          "name": "stderr",
          "text": [
            "\rScraping Progress:  11%|█         | 129/1200 [00:24<03:10,  5.62review/s]"
          ]
        },
        {
          "output_type": "stream",
          "name": "stdout",
          "text": [
            "Sleeping for 1.42 seconds...\n"
          ]
        },
        {
          "output_type": "stream",
          "name": "stderr",
          "text": [
            "\rScraping Progress:  12%|█▏        | 138/1200 [00:27<03:36,  4.91review/s]"
          ]
        },
        {
          "output_type": "stream",
          "name": "stdout",
          "text": [
            "Sleeping for 1.27 seconds...\n"
          ]
        },
        {
          "output_type": "stream",
          "name": "stderr",
          "text": [
            "\rScraping Progress:  13%|█▎        | 154/1200 [00:30<03:23,  5.14review/s]"
          ]
        },
        {
          "output_type": "stream",
          "name": "stdout",
          "text": [
            "Sleeping for 1.79 seconds...\n"
          ]
        },
        {
          "output_type": "stream",
          "name": "stderr",
          "text": [
            "\rScraping Progress:  14%|█▍        | 170/1200 [00:33<03:22,  5.09review/s]"
          ]
        },
        {
          "output_type": "stream",
          "name": "stdout",
          "text": [
            "Sleeping for 1.60 seconds...\n"
          ]
        },
        {
          "output_type": "stream",
          "name": "stderr",
          "text": [
            "\rScraping Progress:  16%|█▌        | 186/1200 [00:36<03:19,  5.09review/s]"
          ]
        },
        {
          "output_type": "stream",
          "name": "stdout",
          "text": [
            "Sleeping for 1.70 seconds...\n"
          ]
        },
        {
          "output_type": "stream",
          "name": "stderr",
          "text": [
            "\rScraping Progress:  17%|█▋        | 202/1200 [00:39<03:13,  5.15review/s]"
          ]
        },
        {
          "output_type": "stream",
          "name": "stdout",
          "text": [
            "Sleeping for 1.11 seconds...\n"
          ]
        },
        {
          "output_type": "stream",
          "name": "stderr",
          "text": [
            "\rScraping Progress:  18%|█▊        | 218/1200 [00:41<02:59,  5.47review/s]"
          ]
        },
        {
          "output_type": "stream",
          "name": "stdout",
          "text": [
            "Sleeping for 1.40 seconds...\n"
          ]
        },
        {
          "output_type": "stream",
          "name": "stderr",
          "text": [
            "\rScraping Progress:  20%|█▉        | 234/1200 [00:44<02:56,  5.48review/s]"
          ]
        },
        {
          "output_type": "stream",
          "name": "stdout",
          "text": [
            "Sleeping for 1.65 seconds...\n"
          ]
        },
        {
          "output_type": "stream",
          "name": "stderr",
          "text": [
            "\rScraping Progress:  21%|██        | 250/1200 [00:48<03:03,  5.18review/s]"
          ]
        },
        {
          "output_type": "stream",
          "name": "stdout",
          "text": [
            "Sleeping for 1.01 seconds...\n"
          ]
        },
        {
          "output_type": "stream",
          "name": "stderr",
          "text": [
            "\rScraping Progress:  22%|██▏       | 266/1200 [00:50<02:47,  5.58review/s]"
          ]
        },
        {
          "output_type": "stream",
          "name": "stdout",
          "text": [
            "Sleeping for 1.20 seconds...\n"
          ]
        },
        {
          "output_type": "stream",
          "name": "stderr",
          "text": [
            "\rScraping Progress:  24%|██▎       | 282/1200 [00:53<02:38,  5.80review/s]"
          ]
        },
        {
          "output_type": "stream",
          "name": "stdout",
          "text": [
            "Sleeping for 1.90 seconds...\n"
          ]
        },
        {
          "output_type": "stream",
          "name": "stderr",
          "text": [
            "\rScraping Progress:  25%|██▍       | 298/1200 [00:56<02:49,  5.32review/s]"
          ]
        },
        {
          "output_type": "stream",
          "name": "stdout",
          "text": [
            "Sleeping for 1.76 seconds...\n"
          ]
        },
        {
          "output_type": "stream",
          "name": "stderr",
          "text": [
            "\rScraping Progress:  26%|██▌       | 314/1200 [01:00<02:52,  5.14review/s]"
          ]
        },
        {
          "output_type": "stream",
          "name": "stdout",
          "text": [
            "Sleeping for 1.18 seconds...\n"
          ]
        },
        {
          "output_type": "stream",
          "name": "stderr",
          "text": [
            "\rScraping Progress:  28%|██▊       | 330/1200 [01:02<02:43,  5.32review/s]"
          ]
        },
        {
          "output_type": "stream",
          "name": "stdout",
          "text": [
            "Sleeping for 1.38 seconds...\n"
          ]
        },
        {
          "output_type": "stream",
          "name": "stderr",
          "text": [
            "\rScraping Progress:  29%|██▉       | 346/1200 [01:05<02:35,  5.48review/s]"
          ]
        },
        {
          "output_type": "stream",
          "name": "stdout",
          "text": [
            "Sleeping for 1.17 seconds...\n"
          ]
        },
        {
          "output_type": "stream",
          "name": "stderr",
          "text": [
            "\rScraping Progress:  30%|███       | 362/1200 [01:08<02:26,  5.72review/s]"
          ]
        },
        {
          "output_type": "stream",
          "name": "stdout",
          "text": [
            "Sleeping for 1.39 seconds...\n"
          ]
        },
        {
          "output_type": "stream",
          "name": "stderr",
          "text": [
            "\rScraping Progress:  32%|███▏      | 378/1200 [01:10<02:23,  5.74review/s]"
          ]
        },
        {
          "output_type": "stream",
          "name": "stdout",
          "text": [
            "Sleeping for 1.42 seconds...\n"
          ]
        },
        {
          "output_type": "stream",
          "name": "stderr",
          "text": [
            "\rScraping Progress:  33%|███▎      | 394/1200 [01:13<02:25,  5.55review/s]"
          ]
        },
        {
          "output_type": "stream",
          "name": "stdout",
          "text": [
            "Sleeping for 1.19 seconds...\n",
            "\n",
            "[+] Scraping reviews for Nvidia...\n"
          ]
        },
        {
          "output_type": "stream",
          "name": "stderr",
          "text": [
            "\rScraping Progress:  33%|███▎      | 401/1200 [01:16<02:43,  4.88review/s]"
          ]
        },
        {
          "output_type": "stream",
          "name": "stdout",
          "text": [
            "Sleeping for 1.03 seconds...\n"
          ]
        },
        {
          "output_type": "stream",
          "name": "stderr",
          "text": [
            "\rScraping Progress:  35%|███▍      | 416/1200 [01:18<02:25,  5.39review/s]"
          ]
        },
        {
          "output_type": "stream",
          "name": "stdout",
          "text": [
            "Sleeping for 1.54 seconds...\n"
          ]
        },
        {
          "output_type": "stream",
          "name": "stderr",
          "text": [
            "\rScraping Progress:  36%|███▌      | 431/1200 [01:20<02:15,  5.68review/s]"
          ]
        },
        {
          "output_type": "stream",
          "name": "stdout",
          "text": [
            "Sleeping for 1.32 seconds...\n"
          ]
        },
        {
          "output_type": "stream",
          "name": "stderr",
          "text": [
            "\rScraping Progress:  37%|███▋      | 439/1200 [01:23<02:33,  4.94review/s]"
          ]
        },
        {
          "output_type": "stream",
          "name": "stdout",
          "text": [
            "Sleeping for 1.38 seconds...\n"
          ]
        },
        {
          "output_type": "stream",
          "name": "stderr",
          "text": [
            "\rScraping Progress:  38%|███▊      | 454/1200 [01:25<02:23,  5.20review/s]"
          ]
        },
        {
          "output_type": "stream",
          "name": "stdout",
          "text": [
            "Sleeping for 1.41 seconds...\n"
          ]
        },
        {
          "output_type": "stream",
          "name": "stderr",
          "text": [
            "\rScraping Progress:  39%|███▉      | 469/1200 [01:28<02:17,  5.30review/s]"
          ]
        },
        {
          "output_type": "stream",
          "name": "stdout",
          "text": [
            "Sleeping for 1.58 seconds...\n"
          ]
        },
        {
          "output_type": "stream",
          "name": "stderr",
          "text": [
            "\rScraping Progress:  40%|████      | 484/1200 [01:31<02:13,  5.36review/s]"
          ]
        },
        {
          "output_type": "stream",
          "name": "stdout",
          "text": [
            "Sleeping for 1.14 seconds...\n"
          ]
        },
        {
          "output_type": "stream",
          "name": "stderr",
          "text": [
            "\rScraping Progress:  42%|████▏     | 499/1200 [01:33<02:02,  5.74review/s]"
          ]
        },
        {
          "output_type": "stream",
          "name": "stdout",
          "text": [
            "Sleeping for 1.70 seconds...\n"
          ]
        },
        {
          "output_type": "stream",
          "name": "stderr",
          "text": [
            "\rScraping Progress:  43%|████▎     | 514/1200 [01:36<02:03,  5.53review/s]"
          ]
        },
        {
          "output_type": "stream",
          "name": "stdout",
          "text": [
            "Sleeping for 1.03 seconds...\n"
          ]
        },
        {
          "output_type": "stream",
          "name": "stderr",
          "text": [
            "\rScraping Progress:  44%|████▍     | 529/1200 [01:38<01:54,  5.84review/s]"
          ]
        },
        {
          "output_type": "stream",
          "name": "stdout",
          "text": [
            "Sleeping for 1.96 seconds...\n"
          ]
        },
        {
          "output_type": "stream",
          "name": "stderr",
          "text": [
            "\rScraping Progress:  45%|████▌     | 544/1200 [01:41<02:00,  5.46review/s]"
          ]
        },
        {
          "output_type": "stream",
          "name": "stdout",
          "text": [
            "Sleeping for 1.19 seconds...\n"
          ]
        },
        {
          "output_type": "stream",
          "name": "stderr",
          "text": [
            "\rScraping Progress:  47%|████▋     | 559/1200 [01:44<01:54,  5.62review/s]"
          ]
        },
        {
          "output_type": "stream",
          "name": "stdout",
          "text": [
            "Sleeping for 1.83 seconds...\n"
          ]
        },
        {
          "output_type": "stream",
          "name": "stderr",
          "text": [
            "\rScraping Progress:  48%|████▊     | 574/1200 [01:47<01:54,  5.49review/s]"
          ]
        },
        {
          "output_type": "stream",
          "name": "stdout",
          "text": [
            "Sleeping for 1.32 seconds...\n"
          ]
        },
        {
          "output_type": "stream",
          "name": "stderr",
          "text": [
            "\rScraping Progress:  49%|████▉     | 589/1200 [01:49<01:48,  5.65review/s]"
          ]
        },
        {
          "output_type": "stream",
          "name": "stdout",
          "text": [
            "Sleeping for 1.51 seconds...\n"
          ]
        },
        {
          "output_type": "stream",
          "name": "stderr",
          "text": [
            "\rScraping Progress:  50%|█████     | 604/1200 [01:52<01:45,  5.66review/s]"
          ]
        },
        {
          "output_type": "stream",
          "name": "stdout",
          "text": [
            "Sleeping for 1.95 seconds...\n"
          ]
        },
        {
          "output_type": "stream",
          "name": "stderr",
          "text": [
            "\rScraping Progress:  52%|█████▏    | 619/1200 [01:55<01:47,  5.39review/s]"
          ]
        },
        {
          "output_type": "stream",
          "name": "stdout",
          "text": [
            "Sleeping for 1.29 seconds...\n"
          ]
        },
        {
          "output_type": "stream",
          "name": "stderr",
          "text": [
            "\rScraping Progress:  53%|█████▎    | 634/1200 [01:57<01:40,  5.64review/s]"
          ]
        },
        {
          "output_type": "stream",
          "name": "stdout",
          "text": [
            "Sleeping for 1.43 seconds...\n"
          ]
        },
        {
          "output_type": "stream",
          "name": "stderr",
          "text": [
            "\rScraping Progress:  54%|█████▍    | 649/1200 [02:00<01:37,  5.68review/s]"
          ]
        },
        {
          "output_type": "stream",
          "name": "stdout",
          "text": [
            "Sleeping for 1.05 seconds...\n"
          ]
        },
        {
          "output_type": "stream",
          "name": "stderr",
          "text": [
            "\rScraping Progress:  55%|█████▌    | 664/1200 [02:02<01:30,  5.93review/s]"
          ]
        },
        {
          "output_type": "stream",
          "name": "stdout",
          "text": [
            "Sleeping for 1.35 seconds...\n"
          ]
        },
        {
          "output_type": "stream",
          "name": "stderr",
          "text": [
            "\rScraping Progress:  57%|█████▋    | 679/1200 [02:05<01:26,  5.99review/s]"
          ]
        },
        {
          "output_type": "stream",
          "name": "stdout",
          "text": [
            "Sleeping for 1.99 seconds...\n"
          ]
        },
        {
          "output_type": "stream",
          "name": "stderr",
          "text": [
            "\rScraping Progress:  58%|█████▊    | 694/1200 [02:08<01:32,  5.45review/s]"
          ]
        },
        {
          "output_type": "stream",
          "name": "stdout",
          "text": [
            "Sleeping for 1.41 seconds...\n"
          ]
        },
        {
          "output_type": "stream",
          "name": "stderr",
          "text": [
            "\rScraping Progress:  59%|█████▉    | 709/1200 [02:10<01:27,  5.60review/s]"
          ]
        },
        {
          "output_type": "stream",
          "name": "stdout",
          "text": [
            "Sleeping for 1.42 seconds...\n"
          ]
        },
        {
          "output_type": "stream",
          "name": "stderr",
          "text": [
            "\rScraping Progress:  60%|██████    | 724/1200 [02:13<01:24,  5.65review/s]"
          ]
        },
        {
          "output_type": "stream",
          "name": "stdout",
          "text": [
            "Sleeping for 1.18 seconds...\n"
          ]
        },
        {
          "output_type": "stream",
          "name": "stderr",
          "text": [
            "\rScraping Progress:  62%|██████▏   | 739/1200 [02:15<01:17,  5.95review/s]"
          ]
        },
        {
          "output_type": "stream",
          "name": "stdout",
          "text": [
            "Sleeping for 1.45 seconds...\n"
          ]
        },
        {
          "output_type": "stream",
          "name": "stderr",
          "text": [
            "\rScraping Progress:  63%|██████▎   | 754/1200 [02:18<01:14,  5.96review/s]"
          ]
        },
        {
          "output_type": "stream",
          "name": "stdout",
          "text": [
            "Sleeping for 1.05 seconds...\n"
          ]
        },
        {
          "output_type": "stream",
          "name": "stderr",
          "text": [
            "\rScraping Progress:  64%|██████▍   | 769/1200 [02:20<01:09,  6.18review/s]"
          ]
        },
        {
          "output_type": "stream",
          "name": "stdout",
          "text": [
            "Sleeping for 1.60 seconds...\n"
          ]
        },
        {
          "output_type": "stream",
          "name": "stderr",
          "text": [
            "\rScraping Progress:  65%|██████▌   | 784/1200 [02:23<01:11,  5.85review/s]"
          ]
        },
        {
          "output_type": "stream",
          "name": "stdout",
          "text": [
            "Sleeping for 1.75 seconds...\n"
          ]
        },
        {
          "output_type": "stream",
          "name": "stderr",
          "text": [
            "\rScraping Progress:  67%|██████▋   | 799/1200 [02:26<01:12,  5.52review/s]"
          ]
        },
        {
          "output_type": "stream",
          "name": "stdout",
          "text": [
            "Sleeping for 1.67 seconds...\n",
            "\n",
            "[+] Scraping reviews for Apple...\n"
          ]
        },
        {
          "output_type": "stream",
          "name": "stderr",
          "text": [
            "\rScraping Progress:  67%|██████▋   | 801/1200 [02:29<01:42,  3.90review/s]"
          ]
        },
        {
          "output_type": "stream",
          "name": "stdout",
          "text": [
            "Sleeping for 1.97 seconds...\n"
          ]
        },
        {
          "output_type": "stream",
          "name": "stderr",
          "text": [
            "\rScraping Progress:  68%|██████▊   | 817/1200 [02:33<01:31,  4.17review/s]"
          ]
        },
        {
          "output_type": "stream",
          "name": "stdout",
          "text": [
            "Sleeping for 1.91 seconds...\n"
          ]
        },
        {
          "output_type": "stream",
          "name": "stderr",
          "text": [
            "\rScraping Progress:  69%|██████▉   | 833/1200 [02:36<01:24,  4.37review/s]"
          ]
        },
        {
          "output_type": "stream",
          "name": "stdout",
          "text": [
            "Sleeping for 1.21 seconds...\n"
          ]
        },
        {
          "output_type": "stream",
          "name": "stderr",
          "text": [
            "\rScraping Progress:  71%|███████   | 849/1200 [02:38<01:09,  5.07review/s]"
          ]
        },
        {
          "output_type": "stream",
          "name": "stdout",
          "text": [
            "Sleeping for 1.98 seconds...\n"
          ]
        },
        {
          "output_type": "stream",
          "name": "stderr",
          "text": [
            "\rScraping Progress:  72%|███████▏  | 865/1200 [02:41<01:08,  4.92review/s]"
          ]
        },
        {
          "output_type": "stream",
          "name": "stdout",
          "text": [
            "Sleeping for 1.39 seconds...\n"
          ]
        },
        {
          "output_type": "stream",
          "name": "stderr",
          "text": [
            "\rScraping Progress:  73%|███████▎  | 881/1200 [02:44<00:58,  5.45review/s]"
          ]
        },
        {
          "output_type": "stream",
          "name": "stdout",
          "text": [
            "Sleeping for 1.70 seconds...\n"
          ]
        },
        {
          "output_type": "stream",
          "name": "stderr",
          "text": [
            "\rScraping Progress:  75%|███████▍  | 897/1200 [02:47<00:58,  5.14review/s]"
          ]
        },
        {
          "output_type": "stream",
          "name": "stdout",
          "text": [
            "Sleeping for 1.55 seconds...\n"
          ]
        },
        {
          "output_type": "stream",
          "name": "stderr",
          "text": [
            "\rScraping Progress:  76%|███████▌  | 913/1200 [02:50<00:55,  5.20review/s]"
          ]
        },
        {
          "output_type": "stream",
          "name": "stdout",
          "text": [
            "Sleeping for 1.22 seconds...\n"
          ]
        },
        {
          "output_type": "stream",
          "name": "stderr",
          "text": [
            "\rScraping Progress:  77%|███████▋  | 929/1200 [02:53<00:50,  5.33review/s]"
          ]
        },
        {
          "output_type": "stream",
          "name": "stdout",
          "text": [
            "Sleeping for 1.43 seconds...\n"
          ]
        },
        {
          "output_type": "stream",
          "name": "stderr",
          "text": [
            "\rScraping Progress:  79%|███████▉  | 945/1200 [02:56<00:47,  5.37review/s]"
          ]
        },
        {
          "output_type": "stream",
          "name": "stdout",
          "text": [
            "Sleeping for 1.83 seconds...\n"
          ]
        },
        {
          "output_type": "stream",
          "name": "stderr",
          "text": [
            "\rScraping Progress:  80%|████████  | 961/1200 [02:59<00:43,  5.54review/s]"
          ]
        },
        {
          "output_type": "stream",
          "name": "stdout",
          "text": [
            "Sleeping for 1.43 seconds...\n"
          ]
        },
        {
          "output_type": "stream",
          "name": "stderr",
          "text": [
            "\rScraping Progress:  81%|████████▏ | 977/1200 [03:02<00:40,  5.51review/s]"
          ]
        },
        {
          "output_type": "stream",
          "name": "stdout",
          "text": [
            "Sleeping for 1.96 seconds...\n"
          ]
        },
        {
          "output_type": "stream",
          "name": "stderr",
          "text": [
            "\rScraping Progress:  83%|████████▎ | 993/1200 [03:05<00:39,  5.25review/s]"
          ]
        },
        {
          "output_type": "stream",
          "name": "stdout",
          "text": [
            "Sleeping for 1.85 seconds...\n"
          ]
        },
        {
          "output_type": "stream",
          "name": "stderr",
          "text": [
            "\rScraping Progress:  84%|████████▍ | 1009/1200 [03:08<00:37,  5.11review/s]"
          ]
        },
        {
          "output_type": "stream",
          "name": "stdout",
          "text": [
            "Sleeping for 1.17 seconds...\n"
          ]
        },
        {
          "output_type": "stream",
          "name": "stderr",
          "text": [
            "\rScraping Progress:  85%|████████▌ | 1025/1200 [03:10<00:30,  5.69review/s]"
          ]
        },
        {
          "output_type": "stream",
          "name": "stdout",
          "text": [
            "Sleeping for 1.54 seconds...\n"
          ]
        },
        {
          "output_type": "stream",
          "name": "stderr",
          "text": [
            "\rScraping Progress:  87%|████████▋ | 1041/1200 [03:13<00:26,  5.98review/s]"
          ]
        },
        {
          "output_type": "stream",
          "name": "stdout",
          "text": [
            "Sleeping for 1.39 seconds...\n"
          ]
        },
        {
          "output_type": "stream",
          "name": "stderr",
          "text": [
            "\rScraping Progress:  88%|████████▊ | 1057/1200 [03:16<00:24,  5.72review/s]"
          ]
        },
        {
          "output_type": "stream",
          "name": "stdout",
          "text": [
            "Sleeping for 1.97 seconds...\n"
          ]
        },
        {
          "output_type": "stream",
          "name": "stderr",
          "text": [
            "\rScraping Progress:  89%|████████▉ | 1073/1200 [03:19<00:22,  5.64review/s]"
          ]
        },
        {
          "output_type": "stream",
          "name": "stdout",
          "text": [
            "Sleeping for 1.08 seconds...\n"
          ]
        },
        {
          "output_type": "stream",
          "name": "stderr",
          "text": [
            "\rScraping Progress:  91%|█████████ | 1089/1200 [03:21<00:19,  5.79review/s]"
          ]
        },
        {
          "output_type": "stream",
          "name": "stdout",
          "text": [
            "Sleeping for 1.40 seconds...\n"
          ]
        },
        {
          "output_type": "stream",
          "name": "stderr",
          "text": [
            "\rScraping Progress:  92%|█████████▏| 1105/1200 [03:24<00:16,  5.69review/s]"
          ]
        },
        {
          "output_type": "stream",
          "name": "stdout",
          "text": [
            "Sleeping for 1.93 seconds...\n"
          ]
        },
        {
          "output_type": "stream",
          "name": "stderr",
          "text": [
            "\rScraping Progress:  93%|█████████▎| 1121/1200 [03:28<00:14,  5.32review/s]"
          ]
        },
        {
          "output_type": "stream",
          "name": "stdout",
          "text": [
            "Sleeping for 1.21 seconds...\n"
          ]
        },
        {
          "output_type": "stream",
          "name": "stderr",
          "text": [
            "\rScraping Progress:  95%|█████████▍| 1137/1200 [03:30<00:10,  5.88review/s]"
          ]
        },
        {
          "output_type": "stream",
          "name": "stdout",
          "text": [
            "Sleeping for 1.93 seconds...\n"
          ]
        },
        {
          "output_type": "stream",
          "name": "stderr",
          "text": [
            "\rScraping Progress:  96%|█████████▌| 1153/1200 [03:33<00:08,  5.87review/s]"
          ]
        },
        {
          "output_type": "stream",
          "name": "stdout",
          "text": [
            "Sleeping for 1.83 seconds...\n"
          ]
        },
        {
          "output_type": "stream",
          "name": "stderr",
          "text": [
            "\rScraping Progress:  97%|█████████▋| 1169/1200 [03:36<00:05,  5.51review/s]"
          ]
        },
        {
          "output_type": "stream",
          "name": "stdout",
          "text": [
            "Sleeping for 1.70 seconds...\n"
          ]
        },
        {
          "output_type": "stream",
          "name": "stderr",
          "text": [
            "\rScraping Progress:  99%|█████████▉| 1185/1200 [03:39<00:02,  5.39review/s]"
          ]
        },
        {
          "output_type": "stream",
          "name": "stdout",
          "text": [
            "Sleeping for 1.23 seconds...\n"
          ]
        },
        {
          "output_type": "stream",
          "name": "stderr",
          "text": [
            "\rScraping Progress: 100%|██████████| 1200/1200 [03:40<00:00,  5.44review/s]"
          ]
        },
        {
          "output_type": "stream",
          "name": "stdout",
          "text": [
            "\n",
            "✅ Scraping complete! Data saved to 'careerbliss_reviews_with_location.csv'\n"
          ]
        },
        {
          "output_type": "stream",
          "name": "stderr",
          "text": [
            "\n"
          ]
        }
      ]
    },
    {
      "cell_type": "code",
      "source": [],
      "metadata": {
        "id": "O6xMMcdR1mGw"
      },
      "execution_count": null,
      "outputs": []
    }
  ]
}